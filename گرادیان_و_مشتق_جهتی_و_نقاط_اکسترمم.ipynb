{
  "nbformat": 4,
  "nbformat_minor": 0,
  "metadata": {
    "colab": {
      "provenance": []
    },
    "kernelspec": {
      "name": "python3",
      "display_name": "Python 3"
    },
    "language_info": {
      "name": "python"
    }
  },
  "cells": [
    {
      "cell_type": "code",
      "execution_count": 1,
      "metadata": {
        "id": "alisI0FFvvDU"
      },
      "outputs": [],
      "source": [
        "import sympy\n",
        "from sympy.vector import *"
      ]
    },
    {
      "cell_type": "code",
      "source": [
        "x, y, z = sympy.symbols('x y z')"
      ],
      "metadata": {
        "id": "E8124c9twDve"
      },
      "execution_count": 2,
      "outputs": []
    },
    {
      "cell_type": "markdown",
      "source": [
        "متشتق جزئی $\\partial f / \\partial x$ و $\\partial f / \\partial y$ تابع :\n",
        "\n",
        "$f(x,y)=y^3\\sin(x^2+y)$"
      ],
      "metadata": {
        "id": "qFO6JyPiwJXH"
      }
    },
    {
      "cell_type": "code",
      "source": [
        "f = y**3 * sympy.sin(x**2 +y)\n",
        "sympy.diff(f,x)"
      ],
      "metadata": {
        "colab": {
          "base_uri": "https://localhost:8080/",
          "height": 38
        },
        "id": "Y6JHZLwbwapV",
        "outputId": "eddcb04d-87e5-4363-a89b-71627d38fba0"
      },
      "execution_count": 3,
      "outputs": [
        {
          "output_type": "execute_result",
          "data": {
            "text/plain": [
              "2*x*y**3*cos(x**2 + y)"
            ],
            "text/latex": "$\\displaystyle 2 x y^{3} \\cos{\\left(x^{2} + y \\right)}$"
          },
          "metadata": {},
          "execution_count": 3
        }
      ]
    },
    {
      "cell_type": "code",
      "source": [
        "sympy.diff(f,y)"
      ],
      "metadata": {
        "colab": {
          "base_uri": "https://localhost:8080/",
          "height": 38
        },
        "id": "1jlpQMAgwotw",
        "outputId": "17e03f10-0b01-4590-ca0c-48df522e32c2"
      },
      "execution_count": 4,
      "outputs": [
        {
          "output_type": "execute_result",
          "data": {
            "text/plain": [
              "y**3*cos(x**2 + y) + 3*y**2*sin(x**2 + y)"
            ],
            "text/latex": "$\\displaystyle y^{3} \\cos{\\left(x^{2} + y \\right)} + 3 y^{2} \\sin{\\left(x^{2} + y \\right)}$"
          },
          "metadata": {},
          "execution_count": 4
        }
      ]
    },
    {
      "cell_type": "markdown",
      "source": [
        "مشتق جزئی $\\frac{\\partial^3 f}{\\partial xy^2}$"
      ],
      "metadata": {
        "id": "990BL6tCwsd1"
      }
    },
    {
      "cell_type": "code",
      "source": [
        "sympy.diff(f,y,y,x)"
      ],
      "metadata": {
        "colab": {
          "base_uri": "https://localhost:8080/",
          "height": 38
        },
        "id": "NY7FH9h3wvUd",
        "outputId": "be72b147-0448-4698-97bf-d8bcdfad9ca7"
      },
      "execution_count": 5,
      "outputs": [
        {
          "output_type": "execute_result",
          "data": {
            "text/plain": [
              "2*x*y*(-y**2*cos(x**2 + y) - 6*y*sin(x**2 + y) + 6*cos(x**2 + y))"
            ],
            "text/latex": "$\\displaystyle 2 x y \\left(- y^{2} \\cos{\\left(x^{2} + y \\right)} - 6 y \\sin{\\left(x^{2} + y \\right)} + 6 \\cos{\\left(x^{2} + y \\right)}\\right)$"
          },
          "metadata": {},
          "execution_count": 5
        }
      ]
    },
    {
      "cell_type": "markdown",
      "source": [
        "##گرادیان"
      ],
      "metadata": {
        "id": "KauZqOrJw7vO"
      }
    },
    {
      "cell_type": "code",
      "source": [
        "C = CoordSys3D('')"
      ],
      "metadata": {
        "id": "f33-qtxWw93h"
      },
      "execution_count": 6,
      "outputs": []
    },
    {
      "cell_type": "code",
      "source": [
        "f = C.x**2 *sympy.sin(C.y**2)\n",
        "f"
      ],
      "metadata": {
        "colab": {
          "base_uri": "https://localhost:8080/",
          "height": 38
        },
        "id": "-PWPr-lGxAJm",
        "outputId": "e0473c48-ad81-4090-e6d8-e8900c088482"
      },
      "execution_count": 9,
      "outputs": [
        {
          "output_type": "execute_result",
          "data": {
            "text/plain": [
              ".x**2*sin(.y**2)"
            ],
            "text/latex": "$\\displaystyle \\mathbf{{x}_{}}^{2} \\sin{\\left(\\mathbf{{y}_{}}^{2} \\right)}$"
          },
          "metadata": {},
          "execution_count": 9
        }
      ]
    },
    {
      "cell_type": "code",
      "source": [
        "gradient(f)"
      ],
      "metadata": {
        "colab": {
          "base_uri": "https://localhost:8080/",
          "height": 39
        },
        "id": "aa6pfEnSxH7O",
        "outputId": "1e2c29ea-5b97-4491-a02f-c52b6df30fb8"
      },
      "execution_count": 10,
      "outputs": [
        {
          "output_type": "execute_result",
          "data": {
            "text/plain": [
              "(2*.x*sin(.y**2))*.i + (2*.x**2*.y*cos(.y**2))*.j"
            ],
            "text/latex": "$\\displaystyle \\left(2 \\mathbf{{x}_{}} \\sin{\\left(\\mathbf{{y}_{}}^{2} \\right)}\\right)\\mathbf{\\hat{i}_{}} + \\left(2 \\mathbf{{x}_{}}^{2} \\mathbf{{y}_{}} \\cos{\\left(\\mathbf{{y}_{}}^{2} \\right)}\\right)\\mathbf{\\hat{j}_{}}$"
          },
          "metadata": {},
          "execution_count": 10
        }
      ]
    },
    {
      "cell_type": "code",
      "source": [
        "gradient(f).to_matrix(C)"
      ],
      "metadata": {
        "colab": {
          "base_uri": "https://localhost:8080/",
          "height": 78
        },
        "id": "FrUMzrWsxGBJ",
        "outputId": "22915735-948f-4226-8461-372f6f59af55"
      },
      "execution_count": 11,
      "outputs": [
        {
          "output_type": "execute_result",
          "data": {
            "text/plain": [
              "Matrix([\n",
              "[      2*.x*sin(.y**2)],\n",
              "[2*.x**2*.y*cos(.y**2)],\n",
              "[                    0]])"
            ],
            "text/latex": "$\\displaystyle \\left[\\begin{matrix}2 \\mathbf{{x}_{}} \\sin{\\left(\\mathbf{{y}_{}}^{2} \\right)}\\\\2 \\mathbf{{x}_{}}^{2} \\mathbf{{y}_{}} \\cos{\\left(\\mathbf{{y}_{}}^{2} \\right)}\\\\0\\end{matrix}\\right]$"
          },
          "metadata": {},
          "execution_count": 11
        }
      ]
    },
    {
      "cell_type": "markdown",
      "source": [
        "##مقداردهی به متغییر y"
      ],
      "metadata": {
        "id": "D7qM-GXnxOGH"
      }
    },
    {
      "cell_type": "code",
      "source": [
        "gradient(f).to_matrix(C).subs([(C.y, 1)])"
      ],
      "metadata": {
        "colab": {
          "base_uri": "https://localhost:8080/",
          "height": 78
        },
        "id": "UgGCdAlkxM9Q",
        "outputId": "8fa845d9-cab3-4bf5-fe79-5e86ae12066c"
      },
      "execution_count": 12,
      "outputs": [
        {
          "output_type": "execute_result",
          "data": {
            "text/plain": [
              "Matrix([\n",
              "[   2*.x*sin(1)],\n",
              "[2*.x**2*cos(1)],\n",
              "[             0]])"
            ],
            "text/latex": "$\\displaystyle \\left[\\begin{matrix}2 \\mathbf{{x}_{}} \\sin{\\left(1 \\right)}\\\\2 \\mathbf{{x}_{}}^{2} \\cos{\\left(1 \\right)}\\\\0\\end{matrix}\\right]$"
          },
          "metadata": {},
          "execution_count": 12
        }
      ]
    },
    {
      "cell_type": "markdown",
      "source": [
        "##مشتق جهتی\n",
        "$D_u f = \\nabla f \\cdot u$"
      ],
      "metadata": {
        "id": "U8lVosD1xXau"
      }
    },
    {
      "cell_type": "code",
      "source": [
        "u = 4*C.i - 3*C.j + 2*C.k\n",
        "# یکه کردن بردار جهت\n",
        "u = u.normalize()\n",
        "u"
      ],
      "metadata": {
        "colab": {
          "base_uri": "https://localhost:8080/",
          "height": 68
        },
        "id": "_nSvj-syxaEy",
        "outputId": "9c28f6bd-38f6-45d7-be97-c6871e5ce9de"
      },
      "execution_count": 13,
      "outputs": [
        {
          "output_type": "execute_result",
          "data": {
            "text/plain": [
              "(4*sqrt(29)/29)*.i + (-3*sqrt(29)/29)*.j + (2*sqrt(29)/29)*.k"
            ],
            "text/latex": "$\\displaystyle \\left(\\frac{4 \\sqrt{29}}{29}\\right)\\mathbf{\\hat{i}_{}} + \\left(- \\frac{3 \\sqrt{29}}{29}\\right)\\mathbf{\\hat{j}_{}} + \\left(\\frac{2 \\sqrt{29}}{29}\\right)\\mathbf{\\hat{k}_{}}$"
          },
          "metadata": {},
          "execution_count": 13
        }
      ]
    },
    {
      "cell_type": "code",
      "source": [
        "gradient(f).dot(u)"
      ],
      "metadata": {
        "colab": {
          "base_uri": "https://localhost:8080/",
          "height": 57
        },
        "id": "yhm2AlBcxk72",
        "outputId": "118dec3b-c0e9-4d9f-9869-8f2b7e8bb83f"
      },
      "execution_count": 14,
      "outputs": [
        {
          "output_type": "execute_result",
          "data": {
            "text/plain": [
              "-6*sqrt(29)*.x**2*.y*cos(.y**2)/29 + 8*sqrt(29)*.x*sin(.y**2)/29"
            ],
            "text/latex": "$\\displaystyle - \\frac{6 \\sqrt{29} \\mathbf{{x}_{}}^{2} \\mathbf{{y}_{}} \\cos{\\left(\\mathbf{{y}_{}}^{2} \\right)}}{29} + \\frac{8 \\sqrt{29} \\mathbf{{x}_{}} \\sin{\\left(\\mathbf{{y}_{}}^{2} \\right)}}{29}$"
          },
          "metadata": {},
          "execution_count": 14
        }
      ]
    },
    {
      "cell_type": "markdown",
      "source": [
        "تعیین نقاط اکسترمم تابع $f(x,y)$\n",
        "\n",
        "* 1. نقاط مرزی دامنه $f$\n",
        "* 2. نقاط بحرانی ($f_x=f_y=0$)\n",
        "\n",
        "اگر در نقطه (a,b):\n",
        "\n",
        "* (i) $f_{xx}<0$ & $f_{xx}f_{yy} - f_{xy}^2>0$  : **ماکسیمم موضعی**\n",
        "* (ii) $f_{xx}>0$ and $f_{xx}f_{yy} - f_{xy}^2>0$ : **مینیمم موضعی**\n",
        "* (iii) $f_{xx}f_{yy} - f_{xy}^2 < 0$ : **نقطه زینی**"
      ],
      "metadata": {
        "id": "i_ULKXf1xqRQ"
      }
    },
    {
      "cell_type": "code",
      "source": [
        "x, y = sympy.symbols('x y', real=True)\n",
        "f = x**3 + 3*x*y + y**3\n",
        "f"
      ],
      "metadata": {
        "colab": {
          "base_uri": "https://localhost:8080/",
          "height": 38
        },
        "id": "NktL6rGiyaf8",
        "outputId": "583f1b75-63d6-419c-a730-c5ce2b6437c0"
      },
      "execution_count": 15,
      "outputs": [
        {
          "output_type": "execute_result",
          "data": {
            "text/plain": [
              "x**3 + 3*x*y + y**3"
            ],
            "text/latex": "$\\displaystyle x^{3} + 3 x y + y^{3}$"
          },
          "metadata": {},
          "execution_count": 15
        }
      ]
    },
    {
      "cell_type": "code",
      "source": [
        "sympy.solve([sympy.diff(f,x), sympy.diff(f, y)])"
      ],
      "metadata": {
        "colab": {
          "base_uri": "https://localhost:8080/"
        },
        "id": "6LtXrDJQyrkm",
        "outputId": "562f5997-afc3-45fd-ce97-3460e0394737"
      },
      "execution_count": 16,
      "outputs": [
        {
          "output_type": "execute_result",
          "data": {
            "text/plain": [
              "[{x: -1, y: -1}, {x: 0, y: 0}]"
            ]
          },
          "metadata": {},
          "execution_count": 16
        }
      ]
    },
    {
      "cell_type": "code",
      "source": [
        "fxx = sympy.diff(f,x,x)\n",
        "fyy = sympy.diff(f,y,y)\n",
        "fxy = sympy.diff(f,x,y)"
      ],
      "metadata": {
        "id": "ukF_vv2AyuGn"
      },
      "execution_count": 17,
      "outputs": []
    },
    {
      "cell_type": "code",
      "source": [
        "fxx.subs([(x,-1),(y,-1)])"
      ],
      "metadata": {
        "colab": {
          "base_uri": "https://localhost:8080/",
          "height": 38
        },
        "id": "Um88l92qywfm",
        "outputId": "21613578-fa36-49c7-ad5a-628e27cfd015"
      },
      "execution_count": 18,
      "outputs": [
        {
          "output_type": "execute_result",
          "data": {
            "text/plain": [
              "-6"
            ],
            "text/latex": "$\\displaystyle -6$"
          },
          "metadata": {},
          "execution_count": 18
        }
      ]
    },
    {
      "cell_type": "code",
      "source": [
        "test = fxx*fyy-fxy**2\n",
        "test.subs([(x,-1),(y,-1)])"
      ],
      "metadata": {
        "colab": {
          "base_uri": "https://localhost:8080/",
          "height": 38
        },
        "id": "NNeyoEU3yyrm",
        "outputId": "c9390035-b93d-440d-9fd2-01edc3acc203"
      },
      "execution_count": 19,
      "outputs": [
        {
          "output_type": "execute_result",
          "data": {
            "text/plain": [
              "27"
            ],
            "text/latex": "$\\displaystyle 27$"
          },
          "metadata": {},
          "execution_count": 19
        }
      ]
    }
  ]
}