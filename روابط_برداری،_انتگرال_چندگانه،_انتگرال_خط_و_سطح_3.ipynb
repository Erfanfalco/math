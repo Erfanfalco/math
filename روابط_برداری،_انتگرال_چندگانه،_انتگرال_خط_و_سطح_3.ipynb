{
 "cells": [
  {
   "cell_type": "code",
   "execution_count": 26,
   "id": "be1bc05b",
   "metadata": {
    "id": "be1bc05b",
    "ExecuteTime": {
     "end_time": "2023-06-09T13:07:24.456603900Z",
     "start_time": "2023-06-09T13:07:24.009651600Z"
    }
   },
   "outputs": [],
   "source": [
    "import numpy\n",
    "import sympy\n",
    "from sympy.vector import *\n",
    "from matplotlib import pyplot\n",
    "from scipy.integrate import quad"
   ]
  },
  {
   "cell_type": "code",
   "source": [
    "from scipy.integrate import quad_vec"
   ],
   "metadata": {
    "id": "w_KgexiW26M5",
    "ExecuteTime": {
     "end_time": "2023-06-09T13:07:24.597228900Z",
     "start_time": "2023-06-09T13:07:24.031595800Z"
    }
   },
   "id": "w_KgexiW26M5",
   "execution_count": 27,
   "outputs": []
  },
  {
   "cell_type": "code",
   "execution_count": 28,
   "id": "aa3422a7",
   "metadata": {
    "id": "aa3422a7",
    "ExecuteTime": {
     "end_time": "2023-06-09T13:07:24.682286600Z",
     "start_time": "2023-06-09T13:07:24.116365800Z"
    }
   },
   "outputs": [],
   "source": [
    "x, y, z, u1, u2, u3, v1, v2, v3, t = sympy.symbols('x y z u_1 u_2 u_3 v_1 v_2 v_3 t')"
   ]
  },
  {
   "cell_type": "markdown",
   "id": "eb8aa9f7",
   "metadata": {
    "id": "eb8aa9f7"
   },
   "source": [
    "# جمع و ضرب های برداری"
   ]
  },
  {
   "cell_type": "code",
   "execution_count": 29,
   "id": "3ff9e0f0",
   "metadata": {
    "id": "3ff9e0f0",
    "ExecuteTime": {
     "end_time": "2023-06-09T13:07:24.685513800Z",
     "start_time": "2023-06-09T13:07:24.204132900Z"
    }
   },
   "outputs": [],
   "source": [
    "A = numpy.array([1,2,3]) #  بردار با مولفه های عدد\n",
    "B = numpy.array([7,8,9]) # بردار با مولفه های عددی\n",
    "U = sympy.Matrix([u1,u2,u3]) # مولفه های سمبولیک\n",
    "V = sympy.Matrix([v1,v2,v3]) # مولفه های سمبولیک"
   ]
  },
  {
   "cell_type": "code",
   "execution_count": 30,
   "id": "07ee163a",
   "metadata": {
    "id": "07ee163a",
    "outputId": "ebf87954-2ae8-4227-d246-0273f259d5db",
    "colab": {
     "base_uri": "https://localhost:8080/"
    },
    "ExecuteTime": {
     "end_time": "2023-06-09T13:07:24.686509600Z",
     "start_time": "2023-06-09T13:07:24.262635300Z"
    }
   },
   "outputs": [
    {
     "data": {
      "text/plain": "array([ 8, 10, 12])"
     },
     "execution_count": 30,
     "metadata": {},
     "output_type": "execute_result"
    }
   ],
   "source": [
    "A+B # جمع بردار"
   ]
  },
  {
   "cell_type": "code",
   "execution_count": 31,
   "id": "a3e910a0",
   "metadata": {
    "id": "a3e910a0",
    "outputId": "b9271b6c-a081-4158-84e2-cd680d58f7b1",
    "colab": {
     "base_uri": "https://localhost:8080/"
    },
    "ExecuteTime": {
     "end_time": "2023-06-09T13:07:24.687509900Z",
     "start_time": "2023-06-09T13:07:24.341434800Z"
    }
   },
   "outputs": [
    {
     "data": {
      "text/plain": "array([16, 20, 24])"
     },
     "execution_count": 31,
     "metadata": {},
     "output_type": "execute_result"
    }
   ],
   "source": [
    "2*(A+B) # ضرب همه مولفه های در عددی مثل 2"
   ]
  },
  {
   "cell_type": "code",
   "execution_count": 32,
   "id": "fed989f6",
   "metadata": {
    "id": "fed989f6",
    "outputId": "0c0bc864-2c32-4c70-b569-7afbaa489d9c",
    "colab": {
     "base_uri": "https://localhost:8080/",
     "height": 78
    },
    "ExecuteTime": {
     "end_time": "2023-06-09T13:07:24.753331100Z",
     "start_time": "2023-06-09T13:07:24.421697400Z"
    }
   },
   "outputs": [
    {
     "data": {
      "text/plain": "Matrix([\n[u_1 + v_1],\n[u_2 + v_2],\n[u_3 + v_3]])",
      "text/latex": "$\\displaystyle \\left[\\begin{matrix}u_{1} + v_{1}\\\\u_{2} + v_{2}\\\\u_{3} + v_{3}\\end{matrix}\\right]$"
     },
     "execution_count": 32,
     "metadata": {},
     "output_type": "execute_result"
    }
   ],
   "source": [
    "U+V # جمع سمبولیک"
   ]
  },
  {
   "cell_type": "code",
   "execution_count": 33,
   "id": "dbd144b6",
   "metadata": {
    "id": "dbd144b6",
    "outputId": "22f9f2ce-3f0f-47ab-dfff-d890b4e7c7d2",
    "colab": {
     "base_uri": "https://localhost:8080/",
     "height": 78
    },
    "ExecuteTime": {
     "end_time": "2023-06-09T13:07:24.756417300Z",
     "start_time": "2023-06-09T13:07:24.511457700Z"
    }
   },
   "outputs": [
    {
     "data": {
      "text/plain": "Matrix([\n[2*u_1 + 2*v_1],\n[2*u_2 + 2*v_2],\n[2*u_3 + 2*v_3]])",
      "text/latex": "$\\displaystyle \\left[\\begin{matrix}2 u_{1} + 2 v_{1}\\\\2 u_{2} + 2 v_{2}\\\\2 u_{3} + 2 v_{3}\\end{matrix}\\right]$"
     },
     "execution_count": 33,
     "metadata": {},
     "output_type": "execute_result"
    }
   ],
   "source": [
    "2*(U+V) # ضرب 2 در همه ملفه های سمبولیک"
   ]
  },
  {
   "cell_type": "markdown",
   "id": "452d76ec",
   "metadata": {
    "id": "452d76ec"
   },
   "source": [
    "## ضرب داخلی بردارها"
   ]
  },
  {
   "cell_type": "code",
   "execution_count": 34,
   "id": "43f959e5",
   "metadata": {
    "id": "43f959e5",
    "outputId": "4814f1c4-2e49-4e1d-dddb-09adec740a24",
    "colab": {
     "base_uri": "https://localhost:8080/"
    },
    "ExecuteTime": {
     "end_time": "2023-06-09T13:07:24.756417300Z",
     "start_time": "2023-06-09T13:07:24.587473500Z"
    }
   },
   "outputs": [
    {
     "data": {
      "text/plain": "50"
     },
     "execution_count": 34,
     "metadata": {},
     "output_type": "execute_result"
    }
   ],
   "source": [
    "numpy.dot(A, B) # ضرب داخلی بردار های عددی"
   ]
  },
  {
   "cell_type": "code",
   "execution_count": 35,
   "id": "72756e3a",
   "metadata": {
    "id": "72756e3a",
    "outputId": "c9d4c268-4c79-41c7-ce41-c5a7ad7337fb",
    "colab": {
     "base_uri": "https://localhost:8080/",
     "height": 38
    },
    "ExecuteTime": {
     "end_time": "2023-06-09T13:07:24.799208400Z",
     "start_time": "2023-06-09T13:07:24.655593400Z"
    }
   },
   "outputs": [
    {
     "data": {
      "text/plain": "u_1*v_1 + u_2*v_2 + u_3*v_3",
      "text/latex": "$\\displaystyle u_{1} v_{1} + u_{2} v_{2} + u_{3} v_{3}$"
     },
     "execution_count": 35,
     "metadata": {},
     "output_type": "execute_result"
    }
   ],
   "source": [
    "U.dot(V) # ضرب داخلی بردار ها به صورت سمبولیک"
   ]
  },
  {
   "cell_type": "markdown",
   "id": "5626bfeb",
   "metadata": {
    "id": "5626bfeb"
   },
   "source": [
    "## ضرب خارجی بردارها\n",
    "\n",
    "* || A x B || = ||A|| ||B|| Sinθ #رابطه ضرب خارجی بردار ها و زاویه بین آنها"
   ]
  },
  {
   "cell_type": "code",
   "execution_count": 36,
   "id": "8f0f5c64",
   "metadata": {
    "id": "8f0f5c64",
    "outputId": "efa765b5-0fab-42b7-a9d6-9701d0f9e333",
    "colab": {
     "base_uri": "https://localhost:8080/"
    },
    "ExecuteTime": {
     "end_time": "2023-06-09T13:07:24.901936300Z",
     "start_time": "2023-06-09T13:07:24.765306100Z"
    }
   },
   "outputs": [
    {
     "data": {
      "text/plain": "array([-6, 12, -6])"
     },
     "execution_count": 36,
     "metadata": {},
     "output_type": "execute_result"
    }
   ],
   "source": [
    "numpy.cross(A,B) # ضرب خارجی بردارهای عددی"
   ]
  },
  {
   "cell_type": "code",
   "execution_count": 37,
   "id": "08383698",
   "metadata": {
    "id": "08383698",
    "outputId": "8573fee2-a217-4f8b-a134-20dcc5902498",
    "colab": {
     "base_uri": "https://localhost:8080/"
    },
    "ExecuteTime": {
     "end_time": "2023-06-09T13:07:24.998731700Z",
     "start_time": "2023-06-09T13:07:24.849075700Z"
    }
   },
   "outputs": [
    {
     "name": "stdout",
     "output_type": "stream",
     "text": [
      "[-0.40824829  0.81649658 -0.40824829]\n"
     ]
    }
   ],
   "source": [
    "unit_direction_vector = numpy.cross(A,B) / numpy.linalg.norm(numpy.cross(A,B))\n",
    "print(unit_direction_vector) # یکه کردن اندازه بردار با تقسیم مولفه ها به اندازه بردار"
   ]
  },
  {
   "cell_type": "code",
   "execution_count": 38,
   "id": "e432521c",
   "metadata": {
    "id": "e432521c",
    "outputId": "acee029c-be77-4306-8596-204feec92362",
    "colab": {
     "base_uri": "https://localhost:8080/"
    },
    "ExecuteTime": {
     "end_time": "2023-06-09T13:07:25.105390Z",
     "start_time": "2023-06-09T13:07:24.982718100Z"
    }
   },
   "outputs": [
    {
     "data": {
      "text/plain": "14.696938456699069"
     },
     "execution_count": 38,
     "metadata": {},
     "output_type": "execute_result"
    }
   ],
   "source": [
    "# اندازه حاصل ضرب  برداری\n",
    "numpy.linalg.norm(numpy.cross(A,B))"
   ]
  },
  {
   "cell_type": "code",
   "execution_count": 39,
   "id": "10d648cc",
   "metadata": {
    "id": "10d648cc",
    "outputId": "df6d742b-2382-4a82-c1f3-c701b71572dc",
    "colab": {
     "base_uri": "https://localhost:8080/",
     "height": 78
    },
    "ExecuteTime": {
     "end_time": "2023-06-09T13:07:25.206121600Z",
     "start_time": "2023-06-09T13:07:25.060511500Z"
    }
   },
   "outputs": [
    {
     "data": {
      "text/plain": "Matrix([\n[ u_2*v_3 - u_3*v_2],\n[-u_1*v_3 + u_3*v_1],\n[ u_1*v_2 - u_2*v_1]])",
      "text/latex": "$\\displaystyle \\left[\\begin{matrix}u_{2} v_{3} - u_{3} v_{2}\\\\- u_{1} v_{3} + u_{3} v_{1}\\\\u_{1} v_{2} - u_{2} v_{1}\\end{matrix}\\right]$"
     },
     "execution_count": 39,
     "metadata": {},
     "output_type": "execute_result"
    }
   ],
   "source": [
    "U.cross(V) # ضرب خارجی بردارها به صورت سمبولیک"
   ]
  },
  {
   "cell_type": "code",
   "execution_count": 40,
   "id": "b2de100e",
   "metadata": {
    "id": "b2de100e",
    "outputId": "9e6ac28a-53ce-42e2-88f9-57d1b8b1a19f",
    "colab": {
     "base_uri": "https://localhost:8080/",
     "height": 48
    },
    "ExecuteTime": {
     "end_time": "2023-06-09T13:07:25.209112400Z",
     "start_time": "2023-06-09T13:07:25.138306300Z"
    }
   },
   "outputs": [
    {
     "data": {
      "text/plain": "sqrt(Abs(u_1)**2 + Abs(u_2)**2 + Abs(u_3)**2)",
      "text/latex": "$\\displaystyle \\sqrt{\\left|{u_{1}}\\right|^{2} + \\left|{u_{2}}\\right|^{2} + \\left|{u_{3}}\\right|^{2}}$"
     },
     "execution_count": 40,
     "metadata": {},
     "output_type": "execute_result"
    }
   ],
   "source": [
    "U.norm() # اندازه بردار سمبولیک"
   ]
  },
  {
   "cell_type": "markdown",
   "id": "19a5d493",
   "metadata": {
    "id": "19a5d493"
   },
   "source": [
    "# مشتق تابع برداری"
   ]
  },
  {
   "cell_type": "code",
   "execution_count": 41,
   "id": "e7e94ed6",
   "metadata": {
    "id": "e7e94ed6",
    "outputId": "88e30071-86f3-444a-eebb-b5620d0f78e9",
    "colab": {
     "base_uri": "https://localhost:8080/",
     "height": 78
    },
    "ExecuteTime": {
     "end_time": "2023-06-09T13:07:25.292888300Z",
     "start_time": "2023-06-09T13:07:25.201135400Z"
    }
   },
   "outputs": [
    {
     "data": {
      "text/plain": "Matrix([\n[   3*t],\n[sin(t)],\n[  t**2]])",
      "text/latex": "$\\displaystyle \\left[\\begin{matrix}3 t\\\\\\sin{\\left(t \\right)}\\\\t^{2}\\end{matrix}\\right]$"
     },
     "execution_count": 41,
     "metadata": {},
     "output_type": "execute_result"
    }
   ],
   "source": [
    "r = sympy.Matrix([3*t, sympy.sin(t), t**2])\n",
    "r"
   ]
  },
  {
   "cell_type": "code",
   "execution_count": 42,
   "id": "8f60625e",
   "metadata": {
    "id": "8f60625e",
    "outputId": "cd7e1f9a-3ede-4c20-c8aa-2d3856f5cc4c",
    "colab": {
     "base_uri": "https://localhost:8080/",
     "height": 78
    },
    "ExecuteTime": {
     "end_time": "2023-06-09T13:07:25.426080700Z",
     "start_time": "2023-06-09T13:07:25.284909800Z"
    }
   },
   "outputs": [
    {
     "data": {
      "text/plain": "Matrix([\n[     3],\n[cos(t)],\n[   2*t]])",
      "text/latex": "$\\displaystyle \\left[\\begin{matrix}3\\\\\\cos{\\left(t \\right)}\\\\2 t\\end{matrix}\\right]$"
     },
     "execution_count": 42,
     "metadata": {},
     "output_type": "execute_result"
    }
   ],
   "source": [
    "sympy.diff(r,t)"
   ]
  },
  {
   "cell_type": "markdown",
   "id": "483bcb60",
   "metadata": {
    "id": "483bcb60"
   },
   "source": [
    "پیدا کردن زاویه بین دو بردار #\n",
    "\n",
    "acos : کد تابع arccos است\n"
   ]
  },
  {
   "cell_type": "code",
   "execution_count": 43,
   "id": "853d6053",
   "metadata": {
    "id": "853d6053",
    "ExecuteTime": {
     "end_time": "2023-06-09T13:07:25.698143600Z",
     "start_time": "2023-06-09T13:07:25.373674500Z"
    }
   },
   "outputs": [],
   "source": [
    "v = sympy.diff(r,t)\n",
    "a = sympy.diff(v,t)\n",
    "theta = sympy.acos(v.dot(a)/(v.norm()*a.norm())).simplify()"
   ]
  },
  {
   "cell_type": "code",
   "source": [
    "v"
   ],
   "metadata": {
    "colab": {
     "base_uri": "https://localhost:8080/",
     "height": 78
    },
    "id": "cP8vCggR6BQy",
    "outputId": "3e34a90b-8df7-42f4-f0b4-323742d303ed",
    "ExecuteTime": {
     "end_time": "2023-06-09T13:07:25.777237200Z",
     "start_time": "2023-06-09T13:07:25.701724500Z"
    }
   },
   "id": "cP8vCggR6BQy",
   "execution_count": 44,
   "outputs": [
    {
     "data": {
      "text/plain": "Matrix([\n[     3],\n[cos(t)],\n[   2*t]])",
      "text/latex": "$\\displaystyle \\left[\\begin{matrix}3\\\\\\cos{\\left(t \\right)}\\\\2 t\\end{matrix}\\right]$"
     },
     "execution_count": 44,
     "metadata": {},
     "output_type": "execute_result"
    }
   ]
  },
  {
   "cell_type": "code",
   "source": [
    "a"
   ],
   "metadata": {
    "colab": {
     "base_uri": "https://localhost:8080/",
     "height": 78
    },
    "id": "BHGuVGc36FJT",
    "outputId": "4f88c5b3-f7e4-424f-ea3d-1b3d0b5c39bc",
    "ExecuteTime": {
     "end_time": "2023-06-09T13:07:25.934990Z",
     "start_time": "2023-06-09T13:07:25.734702500Z"
    }
   },
   "id": "BHGuVGc36FJT",
   "execution_count": 45,
   "outputs": [
    {
     "data": {
      "text/plain": "Matrix([\n[      0],\n[-sin(t)],\n[      2]])",
      "text/latex": "$\\displaystyle \\left[\\begin{matrix}0\\\\- \\sin{\\left(t \\right)}\\\\2\\end{matrix}\\right]$"
     },
     "execution_count": 45,
     "metadata": {},
     "output_type": "execute_result"
    }
   ]
  },
  {
   "cell_type": "code",
   "execution_count": 46,
   "id": "8741c13d",
   "metadata": {
    "id": "8741c13d",
    "outputId": "c6ae9b01-efa2-4331-87cb-9ce2e4a958a5",
    "colab": {
     "base_uri": "https://localhost:8080/",
     "height": 81
    },
    "ExecuteTime": {
     "end_time": "2023-06-09T13:07:26.012898900Z",
     "start_time": "2023-06-09T13:07:25.934990Z"
    }
   },
   "outputs": [
    {
     "data": {
      "text/plain": "acos((4*t - sin(2*t)/2)/(sqrt(Abs(sin(t))**2 + 4)*sqrt(4*Abs(t)**2 + Abs(cos(t))**2 + 9)))",
      "text/latex": "$\\displaystyle \\operatorname{acos}{\\left(\\frac{4 t - \\frac{\\sin{\\left(2 t \\right)}}{2}}{\\sqrt{\\left|{\\sin{\\left(t \\right)}}\\right|^{2} + 4} \\sqrt{4 \\left|{t}\\right|^{2} + \\left|{\\cos{\\left(t \\right)}}\\right|^{2} + 9}} \\right)}$"
     },
     "execution_count": 46,
     "metadata": {},
     "output_type": "execute_result"
    }
   ],
   "source": [
    "theta"
   ]
  },
  {
   "cell_type": "code",
   "execution_count": 47,
   "id": "0e14b294",
   "metadata": {
    "id": "0e14b294",
    "outputId": "4bf1efb9-8906-4a76-d5a3-8a0d108c279a",
    "colab": {
     "base_uri": "https://localhost:8080/",
     "height": 38
    },
    "ExecuteTime": {
     "end_time": "2023-06-09T13:07:26.073734800Z",
     "start_time": "2023-06-09T13:07:25.995942500Z"
    }
   },
   "outputs": [
    {
     "data": {
      "text/plain": "0.251108015692338",
      "text/latex": "$\\displaystyle 0.251108015692338$"
     },
     "execution_count": 47,
     "metadata": {},
     "output_type": "execute_result"
    }
   ],
   "source": [
    "theta.subs(t,6).evalf()"
   ]
  },
  {
   "cell_type": "markdown",
   "id": "30f2eaf9",
   "metadata": {
    "id": "30f2eaf9"
   },
   "source": [
    "## انتگرال تابع برداری"
   ]
  },
  {
   "cell_type": "code",
   "execution_count": 48,
   "id": "bbd4c62e",
   "metadata": {
    "id": "bbd4c62e",
    "outputId": "911972bb-50d8-4c08-e680-cb527f4195fa",
    "colab": {
     "base_uri": "https://localhost:8080/",
     "height": 79
    },
    "ExecuteTime": {
     "end_time": "2023-06-09T13:07:26.146539200Z",
     "start_time": "2023-06-09T13:07:26.054784600Z"
    }
   },
   "outputs": [
    {
     "data": {
      "text/plain": "Matrix([\n[exp(t)*cos(t)],\n[         t**4],\n[ 1/(t**2 + 1)]])",
      "text/latex": "$\\displaystyle \\left[\\begin{matrix}e^{t} \\cos{\\left(t \\right)}\\\\t^{4}\\\\\\frac{1}{t^{2} + 1}\\end{matrix}\\right]$"
     },
     "execution_count": 48,
     "metadata": {},
     "output_type": "execute_result"
    }
   ],
   "source": [
    "r = sympy.Matrix([sympy.exp(t)*sympy.cos(t), t**4, 1/(1+t**2)])\n",
    "r"
   ]
  },
  {
   "cell_type": "code",
   "execution_count": 49,
   "id": "888de574",
   "metadata": {
    "id": "888de574",
    "outputId": "66088c97-2c16-401e-b8d7-6ff4663bf6e8",
    "colab": {
     "base_uri": "https://localhost:8080/",
     "height": 88
    },
    "ExecuteTime": {
     "end_time": "2023-06-09T13:07:26.366964400Z",
     "start_time": "2023-06-09T13:07:26.126592600Z"
    }
   },
   "outputs": [
    {
     "data": {
      "text/plain": "Matrix([\n[exp(t)*sin(t)/2 + exp(t)*cos(t)/2],\n[                           t**5/5],\n[                          atan(t)]])",
      "text/latex": "$\\displaystyle \\left[\\begin{matrix}\\frac{e^{t} \\sin{\\left(t \\right)}}{2} + \\frac{e^{t} \\cos{\\left(t \\right)}}{2}\\\\\\frac{t^{5}}{5}\\\\\\operatorname{atan}{\\left(t \\right)}\\end{matrix}\\right]$"
     },
     "execution_count": 49,
     "metadata": {},
     "output_type": "execute_result"
    }
   ],
   "source": [
    "sympy.Integral(r).doit()"
   ]
  },
  {
   "cell_type": "code",
   "execution_count": 50,
   "id": "787d2d0a",
   "metadata": {
    "id": "787d2d0a",
    "outputId": "b2445859-9110-4948-c580-7f353856b322",
    "colab": {
     "base_uri": "https://localhost:8080/",
     "height": 84
    },
    "ExecuteTime": {
     "end_time": "2023-06-09T13:07:26.465840300Z",
     "start_time": "2023-06-09T13:07:26.371936800Z"
    }
   },
   "outputs": [
    {
     "data": {
      "text/plain": "Matrix([\n[exp(t**2)*cos(t)**3],\n[         exp(-t**4)],\n[       1/(t**2 + 3)]])",
      "text/latex": "$\\displaystyle \\left[\\begin{matrix}e^{t^{2}} \\cos^{3}{\\left(t \\right)}\\\\e^{- t^{4}}\\\\\\frac{1}{t^{2} + 3}\\end{matrix}\\right]$"
     },
     "execution_count": 50,
     "metadata": {},
     "output_type": "execute_result"
    }
   ],
   "source": [
    "r = sympy.Matrix([sympy.exp(t**2)*sympy.cos(t)**3, sympy.exp(-t**4), 1/(3+t**2)])\n",
    "r"
   ]
  },
  {
   "cell_type": "markdown",
   "id": "8e1bb49c",
   "metadata": {
    "id": "8e1bb49c"
   },
   "source": [
    "Integrate from $t=0$ to $t=4$"
   ]
  },
  {
   "cell_type": "code",
   "execution_count": 51,
   "id": "7f31d57f",
   "metadata": {
    "id": "7f31d57f",
    "ExecuteTime": {
     "end_time": "2023-06-09T13:07:26.616521300Z",
     "start_time": "2023-06-09T13:07:26.399019Z"
    }
   },
   "outputs": [],
   "source": [
    "r_num = sympy.lambdify([t], r)"
   ]
  },
  {
   "cell_type": "code",
   "execution_count": 52,
   "id": "3444cd19",
   "metadata": {
    "id": "3444cd19",
    "outputId": "a5b9b99d-5804-4b64-b53b-ee656f1507bc",
    "colab": {
     "base_uri": "https://localhost:8080/"
    },
    "ExecuteTime": {
     "end_time": "2023-06-09T13:07:26.678357600Z",
     "start_time": "2023-06-09T13:07:26.621068Z"
    }
   },
   "outputs": [
    {
     "data": {
      "text/plain": "array([[-4.83559254e+05],\n       [ 9.06402477e-01],\n       [ 6.70972506e-01]])"
     },
     "execution_count": 52,
     "metadata": {},
     "output_type": "execute_result"
    }
   ],
   "source": [
    "quad_vec(r_num, 0, 4)[0]"
   ]
  },
  {
   "cell_type": "markdown",
   "id": "6338c41c",
   "metadata": {
    "id": "6338c41c"
   },
   "source": [
    "\n",
    "* محاسبه طول قوس\n",
    "\n",
    "$$L = \\int_a^b \\sqrt{dx^2 + dy^2 + dz^2} = \\int_a^b \\sqrt{(dx/dt)^2 + (dy/dt)^2 + (dz/dt)^2 } dt $$"
   ]
  },
  {
   "cell_type": "markdown",
   "id": "f1deb4e5",
   "metadata": {
    "id": "f1deb4e5"
   },
   "source": [
    "مثال:  $\\left< 0, t, t^2 \\right>$ from $t=0$ to $t=1$"
   ]
  },
  {
   "cell_type": "code",
   "execution_count": 55,
   "id": "d086a9cf",
   "metadata": {
    "id": "d086a9cf",
    "outputId": "111f949a-9a5d-466c-dbe3-15a93aef7717",
    "colab": {
     "base_uri": "https://localhost:8080/",
     "height": 55
    },
    "ExecuteTime": {
     "end_time": "2023-06-09T13:07:52.449056600Z",
     "start_time": "2023-06-09T13:07:52.188752200Z"
    }
   },
   "outputs": [
    {
     "data": {
      "text/plain": "asinh(2)/4 + sqrt(5)/2",
      "text/latex": "$\\displaystyle \\frac{\\operatorname{asinh}{\\left(2 \\right)}}{4} + \\frac{\\sqrt{5}}{2}$"
     },
     "execution_count": 55,
     "metadata": {},
     "output_type": "execute_result"
    }
   ],
   "source": [
    "# محاسبات سمبولیک\n",
    "r = sympy.Matrix([0, t, t**2])\n",
    "sympy.integrate(sympy.diff(r,t).norm(), (t,0,1))"
   ]
  },
  {
   "cell_type": "markdown",
   "id": "d574033f",
   "metadata": {
    "id": "d574033f"
   },
   "source": [
    "مثال: $\\left< e^t, \\sin(t), t^4 \\right>$ from $t=0$ to $t=1$"
   ]
  },
  {
   "cell_type": "code",
   "execution_count": 40,
   "id": "309d70f9",
   "metadata": {
    "id": "309d70f9",
    "outputId": "96583cbc-ceb0-4fbf-a7df-c1010ce71e4f",
    "colab": {
     "base_uri": "https://localhost:8080/"
    }
   },
   "outputs": [
    {
     "output_type": "execute_result",
     "data": {
      "text/plain": [
       "2.316977146444862"
      ]
     },
     "metadata": {},
     "execution_count": 40
    }
   ],
   "source": [
    "#محاسبات نمادی\n",
    "\n",
    "r = sympy.Matrix([sympy.exp(t), sympy.sin(t), t**4])\n",
    "r_num = sympy.lambdify([t], sympy.diff(r,t).norm())\n",
    "quad(r_num, 0, 1)[0]"
   ]
  },
  {
   "cell_type": "markdown",
   "id": "b018d8fd",
   "metadata": {
    "id": "b018d8fd"
   },
   "source": [
    "* بردار یکه مماسr: $\\vec{T} = \\frac{d\\vec{r}}{dt}\\frac{1}{|d\\vec{r}/dt|} = \\vec{v}/|\\vec{v}|$ \n",
    "* انحناء: $\\kappa = |\\frac{d\\vec{T}}{dt}|\\frac{1}{|\\vec{v}|}$\n",
    "* $\\vec{N} = \\frac{d\\vec{T}/dt}{|d\\vec{T}/dt|}$ \n"
   ]
  },
  {
   "cell_type": "markdown",
   "id": "a85f15fb",
   "metadata": {
    "id": "a85f15fb"
   },
   "source": [
    "**Example** Find all these for $\\vec{r}(t) = \\left<a\\cos(t)e^t, b\\sin(t), ct\\right>$"
   ]
  },
  {
   "cell_type": "code",
   "execution_count": 41,
   "id": "056f81d6",
   "metadata": {
    "id": "056f81d6"
   },
   "outputs": [],
   "source": [
    "t, a, b, c = sympy.symbols('t a b c', pos=True, real=True)"
   ]
  },
  {
   "cell_type": "markdown",
   "id": "1b89a91e",
   "metadata": {
    "id": "1b89a91e"
   },
   "source": [
    "Define the path"
   ]
  },
  {
   "cell_type": "code",
   "execution_count": 42,
   "id": "c8376350",
   "metadata": {
    "id": "c8376350",
    "outputId": "b1809958-8cd1-4376-c053-988181bc3da8",
    "colab": {
     "base_uri": "https://localhost:8080/",
     "height": 78
    }
   },
   "outputs": [
    {
     "output_type": "execute_result",
     "data": {
      "text/plain": [
       "Matrix([\n",
       "[a*exp(t)*cos(t)],\n",
       "[       b*sin(t)],\n",
       "[            c*t]])"
      ],
      "text/latex": "$\\displaystyle \\left[\\begin{matrix}a e^{t} \\cos{\\left(t \\right)}\\\\b \\sin{\\left(t \\right)}\\\\c t\\end{matrix}\\right]$"
     },
     "metadata": {},
     "execution_count": 42
    }
   ],
   "source": [
    "r = sympy.Matrix([a*sympy.cos(t)*sympy.exp(t), b*sympy.sin(t), c*t])\n",
    "r"
   ]
  },
  {
   "cell_type": "markdown",
   "id": "75e55ca7",
   "metadata": {
    "id": "75e55ca7"
   },
   "source": [
    "Define the velocity vector $\\vec{v}$ and speed $|\\vec{v}|$"
   ]
  },
  {
   "cell_type": "code",
   "execution_count": 43,
   "id": "a77fce94",
   "metadata": {
    "id": "a77fce94"
   },
   "outputs": [],
   "source": [
    "v = sympy.diff(r, t)\n",
    "v_norm = v.norm()"
   ]
  },
  {
   "cell_type": "markdown",
   "id": "54a602bb",
   "metadata": {
    "id": "54a602bb"
   },
   "source": [
    "Get $\\vec{T}$, $\\kappa$, and $\\vec{N}$"
   ]
  },
  {
   "cell_type": "code",
   "execution_count": 44,
   "id": "dc99cc53",
   "metadata": {
    "id": "dc99cc53"
   },
   "outputs": [],
   "source": [
    "T = v/v_norm\n",
    "kappa = sympy.diff(T, t).norm()/v_norm\n",
    "N = sympy.diff(T,t)/sympy.diff(T,t).norm()"
   ]
  },
  {
   "cell_type": "markdown",
   "id": "6d9e4d91",
   "metadata": {
    "id": "6d9e4d91"
   },
   "source": [
    "مقداردهی به مقادیر مجهول"
   ]
  },
  {
   "cell_type": "code",
   "execution_count": 45,
   "id": "20fb42fd",
   "metadata": {
    "id": "20fb42fd",
    "outputId": "0093a52d-d032-4c32-acb5-a8eaea0fe39f",
    "colab": {
     "base_uri": "https://localhost:8080/",
     "height": 38
    }
   },
   "outputs": [
    {
     "output_type": "execute_result",
     "data": {
      "text/plain": [
       "0.00775458595406284"
      ],
      "text/latex": "$\\displaystyle 0.00775458595406284$"
     },
     "metadata": {},
     "execution_count": 45
    }
   ],
   "source": [
    "kappa.subs([(t,2),(a,3),(b,4),(c,5)]).evalf()"
   ]
  },
  {
   "cell_type": "code",
   "execution_count": 46,
   "id": "30077ff0",
   "metadata": {
    "id": "30077ff0",
    "outputId": "300cbaad-8567-4ac1-d1b3-af3343a2e9b1",
    "colab": {
     "base_uri": "https://localhost:8080/",
     "height": 78
    }
   },
   "outputs": [
    {
     "output_type": "execute_result",
     "data": {
      "text/plain": [
       "Matrix([\n",
       "[-0.152946073876551],\n",
       "[-0.204518432770271],\n",
       "[-0.966840063890063]])"
      ],
      "text/latex": "$\\displaystyle \\left[\\begin{matrix}-0.152946073876551\\\\-0.204518432770271\\\\-0.966840063890063\\end{matrix}\\right]$"
     },
     "metadata": {},
     "execution_count": 46
    }
   ],
   "source": [
    "N.subs([(t,2),(a,3),(b,4),(c,5)]).evalf()"
   ]
  },
  {
   "cell_type": "markdown",
   "id": "1b2c5d6d",
   "metadata": {
    "id": "1b2c5d6d"
   },
   "source": [
    "## قاعده زنجیری"
   ]
  },
  {
   "cell_type": "code",
   "execution_count": 66,
   "id": "b5c176a0",
   "metadata": {
    "id": "b5c176a0",
    "ExecuteTime": {
     "end_time": "2023-06-08T16:51:43.591736Z",
     "start_time": "2023-06-08T16:51:43.534149100Z"
    }
   },
   "outputs": [],
   "source": [
    "t = sympy.symbols('t')\n",
    "x, y, z, w, v =sympy.symbols('x, y, z w v', cls=sympy.Function)"
   ]
  },
  {
   "cell_type": "markdown",
   "id": "0fcea95f",
   "metadata": {
    "id": "0fcea95f"
   },
   "source": [
    "* فرض کنیم $x$, $y$, و $z$ تابعی از $t$ هستند\n",
    "* $w$ تابعی از $x$, $y$, و $z$ است. i.e $w=w(x,y,z)$\n",
    "\n",
    " $dw/dt =؟$"
   ]
  },
  {
   "cell_type": "code",
   "execution_count": 49,
   "id": "1a7e7d12",
   "metadata": {
    "id": "1a7e7d12"
   },
   "outputs": [],
   "source": [
    "x = x(t)\n",
    "y = y(t)\n",
    "z = z(t)\n",
    "w = w(x, y, z)"
   ]
  },
  {
   "cell_type": "code",
   "execution_count": 50,
   "id": "3bced0a8",
   "metadata": {
    "id": "3bced0a8",
    "outputId": "47b446f3-b25c-4893-8a5b-34787b94d7de",
    "colab": {
     "base_uri": "https://localhost:8080/",
     "height": 56
    }
   },
   "outputs": [
    {
     "output_type": "execute_result",
     "data": {
      "text/plain": [
       "Derivative(w(x(t), y(t), z(t)), x(t))*Derivative(x(t), t) + Derivative(w(x(t), y(t), z(t)), y(t))*Derivative(y(t), t) + Derivative(w(x(t), y(t), z(t)), z(t))*Derivative(z(t), t)"
      ],
      "text/latex": "$\\displaystyle \\frac{d}{d x{\\left(t \\right)}} w{\\left(x{\\left(t \\right)},y{\\left(t \\right)},z{\\left(t \\right)} \\right)} \\frac{d}{d t} x{\\left(t \\right)} + \\frac{d}{d y{\\left(t \\right)}} w{\\left(x{\\left(t \\right)},y{\\left(t \\right)},z{\\left(t \\right)} \\right)} \\frac{d}{d t} y{\\left(t \\right)} + \\frac{d}{d z{\\left(t \\right)}} w{\\left(x{\\left(t \\right)},y{\\left(t \\right)},z{\\left(t \\right)} \\right)} \\frac{d}{d t} z{\\left(t \\right)}$"
     },
     "metadata": {},
     "execution_count": 50
    }
   ],
   "source": [
    "sympy.diff(w,t)"
   ]
  },
  {
   "cell_type": "code",
   "execution_count": 51,
   "id": "31e0f701",
   "metadata": {
    "id": "31e0f701",
    "outputId": "6f92ffa9-216d-47e4-bd85-f3fde3ebac6a",
    "colab": {
     "base_uri": "https://localhost:8080/",
     "height": 39
    }
   },
   "outputs": [
    {
     "output_type": "execute_result",
     "data": {
      "text/plain": [
       "2*t*exp(cos(t))*cos(t**2) - exp(cos(t))*sin(t)*sin(t**2) + 2*sin(t)*cos(t)"
      ],
      "text/latex": "$\\displaystyle 2 t e^{\\cos{\\left(t \\right)}} \\cos{\\left(t^{2} \\right)} - e^{\\cos{\\left(t \\right)}} \\sin{\\left(t \\right)} \\sin{\\left(t^{2} \\right)} + 2 \\sin{\\left(t \\right)} \\cos{\\left(t \\right)}$"
     },
     "metadata": {},
     "execution_count": 51
    }
   ],
   "source": [
    "w1 = x**2+sympy.exp(y)*sympy.sin(z)\n",
    "sympy.diff(w1,t).subs([(x, sympy.sin(t)),\n",
    "                    (y, sympy.cos(t)),\n",
    "                    (z, t**2)]).doit()"
   ]
  },
  {
   "cell_type": "markdown",
   "source": [],
   "metadata": {
    "collapsed": false
   }
  },
  {
   "cell_type": "markdown",
   "id": "edf37392",
   "metadata": {
    "id": "edf37392"
   },
   "source": [
    "## روش ضرایب لاگرانژ یا بهینه سازی مقید"
   ]
  },
  {
   "cell_type": "code",
   "execution_count": null,
   "outputs": [],
   "source": [],
   "metadata": {
    "collapsed": false
   }
  },
  {
   "cell_type": "markdown",
   "id": "26878ded",
   "metadata": {
    "id": "26878ded"
   },
   "source": [
    "مینیمم $f(x,y,z)$ را با قید $g(x,y,z)=0$ بیابید\n",
    "\n",
    "* باید این دو معادله را حل کنیمs $\\nabla f = \\lambda \\nabla g$ و $g(x,y,z)=0$\n",
    "\n",
    "**مثال**:  $g(x,y,z)= 4x^2 + y^2 + 4z^2 = 16$ باقید $f(x,y,z)=8x^2+4yz-16z+600$. "
   ]
  },
  {
   "cell_type": "code",
   "execution_count": null,
   "id": "8b875ad1",
   "metadata": {
    "id": "8b875ad1"
   },
   "outputs": [],
   "source": [
    "C = CoordSys3D('')"
   ]
  },
  {
   "cell_type": "code",
   "execution_count": null,
   "id": "a8bffc97",
   "metadata": {
    "id": "a8bffc97",
    "outputId": "e168137c-ad9b-41b6-e8a4-b19e85d65783"
   },
   "outputs": [
    {
     "data": {
      "text/plain": [
       "[{.x: -4/3, .y: -4/3, .z: -4/3, \\lambda: 2},\n",
       " {.x: 0, .y: -2, .z: -sqrt(3), \\lambda: sqrt(3)},\n",
       " {.x: 0, .y: -2, .z: sqrt(3), \\lambda: -sqrt(3)},\n",
       " {.x: 0, .y: 4, .z: 0, \\lambda: 0},\n",
       " {.x: 4/3, .y: -4/3, .z: -4/3, \\lambda: 2}]"
      ]
     },
     "execution_count": 71,
     "metadata": {},
     "output_type": "execute_result"
    }
   ],
   "source": [
    "lam = sympy.symbols('\\lambda')\n",
    "g = 4*C.x**2 + C.y**2 + 4*C.z**2 - 16\n",
    "f = 8*C.x**2 + 4*C.y*C.z-16*C.z+600\n",
    "eq1 = gradient(f)-lam*gradient(g)\n",
    "eq1 = eq1.to_matrix(C)\n",
    "eq2 = g\n",
    "sols = sympy.solve([eq1, eq2])\n",
    "sols"
   ]
  },
  {
   "cell_type": "code",
   "execution_count": null,
   "id": "24c894e4",
   "metadata": {
    "id": "24c894e4",
    "outputId": "834cec60-9eb2-4d94-f64d-23179ab4bed8"
   },
   "outputs": [
    {
     "name": "stdout",
     "output_type": "stream",
     "text": [
      "642.666666666667\n",
      "641.569219381653\n",
      "558.430780618347\n",
      "600.000000000000\n",
      "642.666666666667\n"
     ]
    }
   ],
   "source": [
    "for sol in sols:\n",
    "    print(f.subs(sol).evalf())"
   ]
  },
  {
   "cell_type": "markdown",
   "id": "c17be5bc",
   "metadata": {
    "id": "c17be5bc"
   },
   "source": [
    "# انتگرال چندگانه"
   ]
  },
  {
   "cell_type": "markdown",
   "id": "7312608e",
   "metadata": {
    "id": "7312608e"
   },
   "source": [
    "In rare cases these can be done symbolically:\n",
    "\n",
    "$$\\int_0^1 \\int_0^{1-x^2} \\int_3^{4-x^2-y^2} xdzdydx$$"
   ]
  },
  {
   "cell_type": "code",
   "execution_count": null,
   "id": "75234f51",
   "metadata": {
    "id": "75234f51",
    "outputId": "5ae357c9-78ba-4c41-ed4b-e495c5a2d767"
   },
   "outputs": [
    {
     "data": {
      "text/latex": [
       "$\\displaystyle \\frac{1}{8}$"
      ],
      "text/plain": [
       "1/8"
      ]
     },
     "execution_count": 73,
     "metadata": {},
     "output_type": "execute_result"
    }
   ],
   "source": [
    "x, y, z = sympy.symbols('x, y, z')\n",
    "f = x\n",
    "sympy.integrate(f, (z, 3, 4-x**2-y**2), (y, 0, 1-x**2), (x, 0, 1))"
   ]
  },
  {
   "cell_type": "markdown",
   "id": "7789a133",
   "metadata": {
    "id": "7789a133"
   },
   "source": [
    "مثال:\n",
    "\n",
    "$$\\int_0^1 \\int_0^{1-x^2} \\int_3^{4-x^2-y^2} xe^{-y}\\cos(z)dzdydx$$"
   ]
  },
  {
   "cell_type": "code",
   "execution_count": null,
   "id": "af24ea1d",
   "metadata": {
    "id": "af24ea1d",
    "outputId": "eb5eedfa-7f72-46ad-9d44-f399df079c8c"
   },
   "outputs": [
    {
     "data": {
      "text/plain": [
       "-0.09109526451447894"
      ]
     },
     "execution_count": 75,
     "metadata": {},
     "output_type": "execute_result"
    }
   ],
   "source": [
    "from scipy.integrate import tplquad\n",
    "f = lambda z, y, x: x*np.exp(-y)*np.cos(z)\n",
    "tplquad(f, 0, 1,\n",
    "        lambda x: 0, lambda x: 1-x**2,\n",
    "        lambda x, y: 3, lambda x, y: 4-x**2-y**2)[0]"
   ]
  },
  {
   "cell_type": "markdown",
   "id": "e84acbfd",
   "metadata": {
    "id": "e84acbfd"
   },
   "source": [
    "## انتگرال خط"
   ]
  },
  {
   "cell_type": "markdown",
   "id": "de8030ec",
   "metadata": {
    "id": "de8030ec"
   },
   "source": [
    "\n",
    "\n",
    "$$\\int_C f(x,y,z) ds = \\int_a^b f(g(t), h(t), k(t))|d\\vec{r}/dt|dt$$"
   ]
  },
  {
   "cell_type": "code",
   "execution_count": null,
   "id": "3681fdc0",
   "metadata": {
    "id": "3681fdc0"
   },
   "outputs": [],
   "source": [
    "t = sympy.symbols('t', real=True)\n",
    "x, y, z, f = sympy.symbols('x y z f', cls=sympy.Function, real=True)\n",
    "x = x(t)\n",
    "y = y(t)\n",
    "z = z(t)\n",
    "r = sympy.Matrix([x, y, z])\n",
    "f = f(x,y,z)"
   ]
  },
  {
   "cell_type": "code",
   "execution_count": null,
   "id": "b1f2980d",
   "metadata": {
    "id": "b1f2980d",
    "outputId": "e9193c30-6758-474c-a4bb-e6b301295a66"
   },
   "outputs": [
    {
     "data": {
      "text/latex": [
       "$\\displaystyle \\sqrt{\\left|{\\frac{d}{d t} x{\\left(t \\right)}}\\right|^{2} + \\left|{\\frac{d}{d t} y{\\left(t \\right)}}\\right|^{2} + \\left|{\\frac{d}{d t} z{\\left(t \\right)}}\\right|^{2}} f{\\left(x{\\left(t \\right)},y{\\left(t \\right)},z{\\left(t \\right)} \\right)}$"
      ],
      "text/plain": [
       "sqrt(Abs(Derivative(x(t), t))**2 + Abs(Derivative(y(t), t))**2 + Abs(Derivative(z(t), t))**2)*f(x(t), y(t), z(t))"
      ]
     },
     "execution_count": 77,
     "metadata": {},
     "output_type": "execute_result"
    }
   ],
   "source": [
    "integrand = f*sympy.diff(r,t).norm()\n",
    "integrand"
   ]
  },
  {
   "cell_type": "markdown",
   "id": "f86ff2ba",
   "metadata": {
    "id": "f86ff2ba"
   },
   "source": [
    "فرض کنید: \n",
    "* $\\vec{r}(t) = \\left<\\cos(t), \\sin(t), t \\right>$ \n",
    "* $f(x,y,z)=2xy+\\sqrt{z}$ \n",
    "* $t=0$ تا $t=2\\pi$. "
   ]
  },
  {
   "cell_type": "code",
   "execution_count": null,
   "id": "c9971ae5",
   "metadata": {
    "id": "c9971ae5",
    "outputId": "15f1f09c-d7bf-4de3-b986-3a930f4f34f0"
   },
   "outputs": [
    {
     "data": {
      "text/latex": [
       "$\\displaystyle \\frac{\\sqrt{2}}{2} + \\sqrt{2} \\left(- \\frac{1}{2} + \\frac{4 \\sqrt{2} \\pi^{\\frac{3}{2}}}{3}\\right)$"
      ],
      "text/plain": [
       "sqrt(2)/2 + sqrt(2)*(-1/2 + 4*sqrt(2)*pi**(3/2)/3)"
      ]
     },
     "execution_count": 78,
     "metadata": {},
     "output_type": "execute_result"
    }
   ],
   "source": [
    "integrand1 = integrand.subs([(f, 2*x*y+sympy.sqrt(z)),\n",
    "                            (x, sympy.cos(t)),\n",
    "                            (y, sympy.sin(t)),\n",
    "                            (z, t)]).doit().simplify()\n",
    "sympy.integrate(integrand1, (t, 0, 2*sympy.pi))"
   ]
  },
  {
   "cell_type": "markdown",
   "id": "33e1fd20",
   "metadata": {
    "id": "33e1fd20"
   },
   "source": [
    "فرض کنید:\n",
    "\n",
    "* $\\vec{r}(t) = \\left<3\\cos(t), 2\\sin(t), e^{t/4} \\right>$ \n",
    "* $f(x,y,z)=2xy+\\sqrt{z}$ \n",
    "* $t=0$ تا $t=2\\pi$."
   ]
  },
  {
   "cell_type": "code",
   "execution_count": null,
   "id": "cbf29817",
   "metadata": {
    "id": "cbf29817"
   },
   "outputs": [],
   "source": [
    "integrand2 = integrand.subs([(f, 2*x*y+sympy.sqrt(z)),\n",
    "                            (x, 3*sympy.cos(t)),\n",
    "                            (y, sympy.sin(t)),\n",
    "                            (z, sympy.exp(t/4))]).doit().simplify()\n",
    "# Won't Run!\n",
    "#sympy.integrate(integrand2, (t, 0, 2*sympy.pi))"
   ]
  },
  {
   "cell_type": "code",
   "execution_count": null,
   "id": "befe850a",
   "metadata": {
    "id": "befe850a",
    "outputId": "f6cee6bb-a557-4ad6-8675-c361d7ff61d2"
   },
   "outputs": [
    {
     "data": {
      "text/latex": [
       "$\\displaystyle \\frac{\\left(e^{\\frac{t}{8}} + 3 \\sin{\\left(2 t \\right)}\\right) \\sqrt{e^{\\frac{t}{2}} + 128 \\sin^{2}{\\left(t \\right)} + 16}}{4}$"
      ],
      "text/plain": [
       "(exp(t/8) + 3*sin(2*t))*sqrt(exp(t/2) + 128*sin(t)**2 + 16)/4"
      ]
     },
     "execution_count": 80,
     "metadata": {},
     "output_type": "execute_result"
    }
   ],
   "source": [
    "integrand2"
   ]
  },
  {
   "cell_type": "code",
   "execution_count": null,
   "id": "1fd64df3",
   "metadata": {
    "id": "1fd64df3",
    "outputId": "573406bb-374a-42e9-b0aa-b9eee9349cba"
   },
   "outputs": [
    {
     "data": {
      "text/plain": [
       "21.055300456759795"
      ]
     },
     "execution_count": 81,
     "metadata": {},
     "output_type": "execute_result"
    }
   ],
   "source": [
    "integrand2_num = sympy.lambdify([t], integrand2)\n",
    "quad(integrand2_num, 0, 2*np.pi)[0]"
   ]
  },
  {
   "cell_type": "markdown",
   "id": "86753600",
   "metadata": {
    "id": "86753600"
   },
   "source": [
    "\n",
    "\n",
    "$$\\int_C \\vec{F}(x,y,z) \\cdot d\\vec{r} = \\int_a^b\\vec{F}(g(t), h(t), k(t)) \\cdot \\frac{d\\vec{r}}{dt} dt$$"
   ]
  },
  {
   "cell_type": "code",
   "execution_count": null,
   "id": "62ee09e5",
   "metadata": {
    "id": "62ee09e5"
   },
   "outputs": [],
   "source": [
    "t = sympy.symbols('t', real=True)\n",
    "x, y, z, F1, F2, F3 = sympy.symbols('x y z F_1, F_2, F_3', cls=sympy.Function, real=True)\n",
    "x = x(t)\n",
    "y = y(t)\n",
    "z = z(t)\n",
    "F1 = F1(x,y,z)\n",
    "F2 = F2(x,y,z)\n",
    "F3 = F3(x,y,z)\n",
    "r = sympy.Matrix([x, y, z])\n",
    "F = sympy.Matrix([F1, F2, F3])"
   ]
  },
  {
   "cell_type": "code",
   "execution_count": null,
   "id": "4df25865",
   "metadata": {
    "id": "4df25865",
    "outputId": "55b1e259-0414-4257-ffa9-787cfbc91a7d"
   },
   "outputs": [
    {
     "data": {
      "text/latex": [
       "$\\displaystyle \\operatorname{F_{1}}{\\left(x{\\left(t \\right)},y{\\left(t \\right)},z{\\left(t \\right)} \\right)} \\frac{d}{d t} x{\\left(t \\right)} + \\operatorname{F_{2}}{\\left(x{\\left(t \\right)},y{\\left(t \\right)},z{\\left(t \\right)} \\right)} \\frac{d}{d t} y{\\left(t \\right)} + \\operatorname{F_{3}}{\\left(x{\\left(t \\right)},y{\\left(t \\right)},z{\\left(t \\right)} \\right)} \\frac{d}{d t} z{\\left(t \\right)}$"
      ],
      "text/plain": [
       "F_1(x(t), y(t), z(t))*Derivative(x(t), t) + F_2(x(t), y(t), z(t))*Derivative(y(t), t) + F_3(x(t), y(t), z(t))*Derivative(z(t), t)"
      ]
     },
     "execution_count": 83,
     "metadata": {},
     "output_type": "execute_result"
    }
   ],
   "source": [
    "integrand = F.dot(sympy.diff(r,t))\n",
    "integrand"
   ]
  },
  {
   "cell_type": "markdown",
   "id": "2524ec48",
   "metadata": {
    "id": "2524ec48"
   },
   "source": [
    "فرض کنید: $\\vec{F} = \\left< \\sqrt{z}, -2x, \\sqrt{y}\\right>$ و $\\vec{r}(t) = \\left<t, t^2, t^4 \\right>$ از $t=0$ تا $t=1$"
   ]
  },
  {
   "cell_type": "code",
   "execution_count": null,
   "id": "d81774ba",
   "metadata": {
    "id": "d81774ba",
    "outputId": "3f48378b-eafc-41d1-8478-7a059c5c5174"
   },
   "outputs": [
    {
     "data": {
      "text/latex": [
       "$\\displaystyle - \\frac{1}{5}$"
      ],
      "text/plain": [
       "-1/5"
      ]
     },
     "execution_count": 84,
     "metadata": {},
     "output_type": "execute_result"
    }
   ],
   "source": [
    "integrand1 = integrand.subs([(F1, sympy.sqrt(z)),\n",
    "                             (F2, -2*x),\n",
    "                             (F3, sympy.sqrt(y)),\n",
    "                             (x, t),\n",
    "                             (y, t**2),\n",
    "                             (z, t**4)]).doit().simplify()\n",
    "sympy.integrate(integrand1, (t, 0, 1))"
   ]
  },
  {
   "cell_type": "markdown",
   "id": "dc143e01",
   "metadata": {
    "id": "dc143e01"
   },
   "source": [
    "\n",
    "\n",
    "فرض کنید:  $\\vec{F} = \\left< \\sqrt{|z|}, -2x, \\sqrt{|y|}\\right>$ و $\\vec{r}(t) = \\left<3\\cos^2(t), t^2, 2\\sin(t) \\right>$ از $t=0$ تا $t=2\\pi$"
   ]
  },
  {
   "cell_type": "code",
   "execution_count": null,
   "id": "4bce93b5",
   "metadata": {
    "id": "4bce93b5"
   },
   "outputs": [],
   "source": [
    "integrand2 = integrand.subs([(F1, sympy.sqrt(sympy.Abs(z))),\n",
    "                             (F2, -2*x),\n",
    "                             (F3, sympy.sqrt(sympy.Abs(y))),\n",
    "                             (x, 3*sympy.cos(t)**2),\n",
    "                             (y, t**2),\n",
    "                             (z, 2*sympy.sin(t))]).doit().simplify()\n",
    "# Won't Run\n",
    "#sympy.integrate(integrand2, (t, 0, 2*sympy.pi))"
   ]
  },
  {
   "cell_type": "code",
   "execution_count": null,
   "id": "24ac99d2",
   "metadata": {
    "id": "24ac99d2",
    "outputId": "b6ee93a1-0b72-4a1b-ed24-4a32ec1a0444"
   },
   "outputs": [
    {
     "data": {
      "text/latex": [
       "$\\displaystyle 2 \\left(- 6 t \\cos{\\left(t \\right)} - 3 \\sqrt{2} \\sin{\\left(t \\right)} \\sqrt{\\left|{\\sin{\\left(t \\right)}}\\right|} + \\left|{t}\\right|\\right) \\cos{\\left(t \\right)}$"
      ],
      "text/plain": [
       "2*(-6*t*cos(t) - 3*sqrt(2)*sin(t)*sqrt(Abs(sin(t))) + Abs(t))*cos(t)"
      ]
     },
     "execution_count": 86,
     "metadata": {},
     "output_type": "execute_result"
    }
   ],
   "source": [
    "integrand2"
   ]
  },
  {
   "cell_type": "code",
   "execution_count": null,
   "id": "364f7b87",
   "metadata": {
    "id": "364f7b87",
    "outputId": "944c9149-4f33-44dc-812c-5653c8115517"
   },
   "outputs": [
    {
     "data": {
      "text/plain": [
       "-118.4352528130723"
      ]
     },
     "execution_count": 87,
     "metadata": {},
     "output_type": "execute_result"
    }
   ],
   "source": [
    "integrand2_num = sympy.lambdify([t], integrand2)\n",
    "quad(integrand2_num, 0, 2*np.pi)[0]"
   ]
  },
  {
   "cell_type": "markdown",
   "id": "d840b04e",
   "metadata": {
    "id": "d840b04e"
   },
   "source": [
    "## انتگرال سطح"
   ]
  },
  {
   "cell_type": "markdown",
   "id": "4bc3da0e",
   "metadata": {
    "id": "4bc3da0e"
   },
   "source": [
    " $\\vec{r}(u,v)$ داده شده \n",
    "\n",
    "$$A = \\iint_S \\left| \\frac{d\\vec{r}}{du} \\times \\frac{d\\vec{r}}{dv} \\right| du dv$$\n",
    "داریم:\n",
    "\n",
    "$$\\iint_S G(\\vec{r}(u,v)) \\left| \\frac{d\\vec{r}}{du} \\times \\frac{d\\vec{r}}{dv} \\right| du dv$$"
   ]
  },
  {
   "cell_type": "code",
   "execution_count": null,
   "id": "82d5a3c6",
   "metadata": {
    "id": "82d5a3c6"
   },
   "outputs": [],
   "source": [
    "rho, the = sympy.symbols(r'\\rho \\theta',pos=True, real=True)\n",
    "x, y, z, G = sympy.symbols('x y z G', cls=sympy.Function, real=True)\n",
    "x = x(rho, the)\n",
    "y = y(rho, the)\n",
    "z = z(rho, the)\n",
    "G = G(x,y,z)\n",
    "r = sympy.Matrix([x, y, z])"
   ]
  },
  {
   "cell_type": "code",
   "execution_count": null,
   "id": "be999bb8",
   "metadata": {
    "id": "be999bb8",
    "outputId": "b1d8ce0c-1aba-4949-e9f9-ac7baf72d0a3"
   },
   "outputs": [
    {
     "data": {
      "text/latex": [
       "$\\displaystyle \\sqrt{\\left|{\\frac{\\partial}{\\partial \\rho} x{\\left(\\rho,\\theta \\right)} \\frac{\\partial}{\\partial \\theta} y{\\left(\\rho,\\theta \\right)} - \\frac{\\partial}{\\partial \\theta} x{\\left(\\rho,\\theta \\right)} \\frac{\\partial}{\\partial \\rho} y{\\left(\\rho,\\theta \\right)}}\\right|^{2} + \\left|{\\frac{\\partial}{\\partial \\rho} x{\\left(\\rho,\\theta \\right)} \\frac{\\partial}{\\partial \\theta} z{\\left(\\rho,\\theta \\right)} - \\frac{\\partial}{\\partial \\theta} x{\\left(\\rho,\\theta \\right)} \\frac{\\partial}{\\partial \\rho} z{\\left(\\rho,\\theta \\right)}}\\right|^{2} + \\left|{\\frac{\\partial}{\\partial \\rho} y{\\left(\\rho,\\theta \\right)} \\frac{\\partial}{\\partial \\theta} z{\\left(\\rho,\\theta \\right)} - \\frac{\\partial}{\\partial \\theta} y{\\left(\\rho,\\theta \\right)} \\frac{\\partial}{\\partial \\rho} z{\\left(\\rho,\\theta \\right)}}\\right|^{2}} G{\\left(x{\\left(\\rho,\\theta \\right)},y{\\left(\\rho,\\theta \\right)},z{\\left(\\rho,\\theta \\right)} \\right)}$"
      ],
      "text/plain": [
       "sqrt(Abs(Derivative(x(\\rho, \\theta), \\rho)*Derivative(y(\\rho, \\theta), \\theta) - Derivative(x(\\rho, \\theta), \\theta)*Derivative(y(\\rho, \\theta), \\rho))**2 + Abs(Derivative(x(\\rho, \\theta), \\rho)*Derivative(z(\\rho, \\theta), \\theta) - Derivative(x(\\rho, \\theta), \\theta)*Derivative(z(\\rho, \\theta), \\rho))**2 + Abs(Derivative(y(\\rho, \\theta), \\rho)*Derivative(z(\\rho, \\theta), \\theta) - Derivative(y(\\rho, \\theta), \\theta)*Derivative(z(\\rho, \\theta), \\rho))**2)*G(x(\\rho, \\theta), y(\\rho, \\theta), z(\\rho, \\theta))"
      ]
     },
     "execution_count": 89,
     "metadata": {},
     "output_type": "execute_result"
    }
   ],
   "source": [
    "integrand = G*sympy.diff(r,rho).cross(sympy.diff(r,the)).norm()\n",
    "integrand"
   ]
  },
  {
   "cell_type": "code",
   "execution_count": null,
   "id": "ce72ebab",
   "metadata": {
    "id": "ce72ebab",
    "outputId": "07003b25-1008-4062-8178-188e614c55e5"
   },
   "outputs": [
    {
     "data": {
      "text/latex": [
       "$\\displaystyle \\rho^{2} \\sqrt{4 \\rho^{2} + 1} \\left|{\\rho}\\right|$"
      ],
      "text/plain": [
       "\\rho**2*sqrt(4*\\rho**2 + 1)*Abs(\\rho)"
      ]
     },
     "execution_count": 90,
     "metadata": {},
     "output_type": "execute_result"
    }
   ],
   "source": [
    "integrand1 = integrand.subs([(G, x**2+y**2),\n",
    "                             (x, rho*sympy.cos(the)),\n",
    "                             (y, rho*sympy.sin(the)),\n",
    "                             (z, rho**2)]).doit().simplify()\n",
    "integrand1"
   ]
  },
  {
   "cell_type": "code",
   "execution_count": null,
   "id": "3672dab1",
   "metadata": {
    "id": "3672dab1",
    "outputId": "c1b8c7a7-a305-45c5-e110-761840095012"
   },
   "outputs": [
    {
     "data": {
      "text/latex": [
       "$\\displaystyle \\frac{\\pi}{60} + \\frac{5 \\sqrt{5} \\pi}{12}$"
      ],
      "text/plain": [
       "pi/60 + 5*sqrt(5)*pi/12"
      ]
     },
     "execution_count": 91,
     "metadata": {},
     "output_type": "execute_result"
    }
   ],
   "source": [
    "sympy.integrate(integrand1, (the, 0, 2*sympy.pi), (rho, 0, 1))"
   ]
  },
  {
   "cell_type": "markdown",
   "id": "27274200",
   "metadata": {
    "id": "27274200"
   },
   "source": [
    "## Surface Integrals (Vector)"
   ]
  },
  {
   "cell_type": "markdown",
   "id": "7fe9c84b",
   "metadata": {
    "id": "7fe9c84b"
   },
   "source": [
    "انتگرال سطح تابع برداری $\\vec{G}(\\vec{r})$ به صورت :\n",
    "\n",
    "$$\\iint_S \\vec{G}(\\vec{r}(u,v)) \\cdot \\left(\\frac{d\\vec{r}}{du} \\times \\frac{d\\vec{r}}{dv}\\right) du dv$$\n"
   ]
  },
  {
   "cell_type": "code",
   "execution_count": null,
   "id": "5767da84",
   "metadata": {
    "id": "5767da84"
   },
   "outputs": [],
   "source": [
    "rho, the = sympy.symbols(r'\\rho \\theta',pos=True, real=True)\n",
    "x, y, z, G1, G2, G3 = sympy.symbols('x y z G_1, G_2, G_3', cls=sympy.Function, real=True)\n",
    "x = x(rho, the)\n",
    "y = y(rho, the)\n",
    "z = z(rho, the)\n",
    "G1 = G1(x,y,z)\n",
    "G2 = G2(x,y,z)\n",
    "G3 = G3(x,y,z)\n",
    "r = sympy.Matrix([x, y, z])\n",
    "G = sympy.Matrix([G1, G2, G3])"
   ]
  },
  {
   "cell_type": "code",
   "execution_count": null,
   "id": "1763a61a",
   "metadata": {
    "id": "1763a61a",
    "outputId": "d9dbf2ca-6f63-4348-8d85-f70afb8f392d"
   },
   "outputs": [
    {
     "data": {
      "text/latex": [
       "$\\displaystyle \\left(\\frac{\\partial}{\\partial \\rho} x{\\left(\\rho,\\theta \\right)} \\frac{\\partial}{\\partial \\theta} y{\\left(\\rho,\\theta \\right)} - \\frac{\\partial}{\\partial \\theta} x{\\left(\\rho,\\theta \\right)} \\frac{\\partial}{\\partial \\rho} y{\\left(\\rho,\\theta \\right)}\\right) \\operatorname{G_{3}}{\\left(x{\\left(\\rho,\\theta \\right)},y{\\left(\\rho,\\theta \\right)},z{\\left(\\rho,\\theta \\right)} \\right)} + \\left(- \\frac{\\partial}{\\partial \\rho} x{\\left(\\rho,\\theta \\right)} \\frac{\\partial}{\\partial \\theta} z{\\left(\\rho,\\theta \\right)} + \\frac{\\partial}{\\partial \\theta} x{\\left(\\rho,\\theta \\right)} \\frac{\\partial}{\\partial \\rho} z{\\left(\\rho,\\theta \\right)}\\right) \\operatorname{G_{2}}{\\left(x{\\left(\\rho,\\theta \\right)},y{\\left(\\rho,\\theta \\right)},z{\\left(\\rho,\\theta \\right)} \\right)} + \\left(\\frac{\\partial}{\\partial \\rho} y{\\left(\\rho,\\theta \\right)} \\frac{\\partial}{\\partial \\theta} z{\\left(\\rho,\\theta \\right)} - \\frac{\\partial}{\\partial \\theta} y{\\left(\\rho,\\theta \\right)} \\frac{\\partial}{\\partial \\rho} z{\\left(\\rho,\\theta \\right)}\\right) \\operatorname{G_{1}}{\\left(x{\\left(\\rho,\\theta \\right)},y{\\left(\\rho,\\theta \\right)},z{\\left(\\rho,\\theta \\right)} \\right)}$"
      ],
      "text/plain": [
       "(Derivative(x(\\rho, \\theta), \\rho)*Derivative(y(\\rho, \\theta), \\theta) - Derivative(x(\\rho, \\theta), \\theta)*Derivative(y(\\rho, \\theta), \\rho))*G_3(x(\\rho, \\theta), y(\\rho, \\theta), z(\\rho, \\theta)) + (-Derivative(x(\\rho, \\theta), \\rho)*Derivative(z(\\rho, \\theta), \\theta) + Derivative(x(\\rho, \\theta), \\theta)*Derivative(z(\\rho, \\theta), \\rho))*G_2(x(\\rho, \\theta), y(\\rho, \\theta), z(\\rho, \\theta)) + (Derivative(y(\\rho, \\theta), \\rho)*Derivative(z(\\rho, \\theta), \\theta) - Derivative(y(\\rho, \\theta), \\theta)*Derivative(z(\\rho, \\theta), \\rho))*G_1(x(\\rho, \\theta), y(\\rho, \\theta), z(\\rho, \\theta))"
      ]
     },
     "execution_count": 93,
     "metadata": {},
     "output_type": "execute_result"
    }
   ],
   "source": [
    "integrand = G.dot(sympy.diff(r,rho).cross(sympy.diff(r,the)))\n",
    "integrand"
   ]
  },
  {
   "cell_type": "code",
   "execution_count": null,
   "id": "6a09fb54",
   "metadata": {
    "id": "6a09fb54",
    "outputId": "4f5a1e3d-2344-494c-81be-dc5e6dc5d1f8"
   },
   "outputs": [
    {
     "data": {
      "text/latex": [
       "$\\displaystyle - 2 \\rho^{4} \\left(\\frac{\\sin{\\left(2 \\theta \\right)}}{2} + 1\\right) \\sin{\\left(\\theta \\right)}$"
      ],
      "text/plain": [
       "-2*\\rho**4*(sin(2*\\theta)/2 + 1)*sin(\\theta)"
      ]
     },
     "execution_count": 94,
     "metadata": {},
     "output_type": "execute_result"
    }
   ],
   "source": [
    "integrand1 = integrand.subs([(G1, y**2),\n",
    "                             (G2, z),\n",
    "                             (G3, 0),\n",
    "                             (x, rho*sympy.cos(the)),\n",
    "                             (y, rho*sympy.sin(the)),\n",
    "                             (z, rho**2)]).doit().simplify()\n",
    "integrand1"
   ]
  },
  {
   "cell_type": "code",
   "execution_count": null,
   "id": "3a878566",
   "metadata": {
    "id": "3a878566",
    "outputId": "fd088be0-7b6c-40d7-ef81-4b57c282a127"
   },
   "outputs": [
    {
     "data": {
      "text/latex": [
       "$\\displaystyle - \\frac{4}{5}$"
      ],
      "text/plain": [
       "-4/5"
      ]
     },
     "execution_count": 95,
     "metadata": {},
     "output_type": "execute_result"
    }
   ],
   "source": [
    "sympy.integrate(integrand1, (the, 0, sympy.pi), (rho, 0, 1))"
   ]
  }
 ],
 "metadata": {
  "kernelspec": {
   "display_name": "Python 3",
   "language": "python",
   "name": "python3"
  },
  "language_info": {
   "codemirror_mode": {
    "name": "ipython",
    "version": 3
   },
   "file_extension": ".py",
   "mimetype": "text/x-python",
   "name": "python",
   "nbconvert_exporter": "python",
   "pygments_lexer": "ipython3",
   "version": "3.8.8"
  },
  "colab": {
   "provenance": []
  }
 },
 "nbformat": 4,
 "nbformat_minor": 5
}
