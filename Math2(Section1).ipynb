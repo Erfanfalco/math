{
 "cells": [
  {
   "cell_type": "markdown",
   "id": "62c0df2e",
   "metadata": {},
   "source": []
  },
  {
   "cell_type": "markdown",
   "id": "4963cfaa",
   "metadata": {},
   "source": [
    "لیست کلمات رزرو شده در پایتون:\n",
    "\n",
    "\n",
    "'False', 'None', 'True', 'and', 'as', 'assert', 'break', 'class', \n",
    "'continue', 'def', 'del', 'elif', 'else', 'except', 'finally', \n",
    "'for', 'from', 'global', 'if', 'import', 'in', 'is', 'lambda', \n",
    "'nonlocal', 'not', 'or', 'pass', 'raise', 'return', \n",
    "'try', 'while', 'with', 'yield'"
   ]
  },
  {
   "cell_type": "markdown",
   "id": "7acc0130",
   "metadata": {},
   "source": [
    "انواع متغییر:\n",
    "\n",
    "1-عدد (صحیح، حقیقی و مختلط)\n",
    "2-رشته متنی (string)\n",
    "3-لیست (list)\n",
    "4-تاپل (tuple)\n",
    "5-دیکشنری (dictionary)\n",
    "6-شئ (object)"
   ]
  },
  {
   "cell_type": "markdown",
   "id": "94f5d3f2",
   "metadata": {},
   "source": [
    "انواع اعداد: \n",
    "1-اعداد صحیح و علامت‌دار (integer یا به اختصار int)\n",
    "2-اعداد حقیقی ممیز شناور (float)\n",
    "3-اعداد مختلف ریاضی (complex)"
   ]
  },
  {
   "cell_type": "markdown",
   "id": "2cb24a60",
   "metadata": {},
   "source": [
    "# Math:\n",
    "این ماژول شامل توابع و ثابت های ریاضیاتی ست "
   ]
  },
  {
   "cell_type": "markdown",
   "id": "5171ce0d",
   "metadata": {},
   "source": [
    "$\\pi$=math.pi\n",
    "\n",
    "\n",
    "e=math.e\n",
    "\n",
    "\n",
    "math.inf: بی نهایت"
   ]
  },
  {
   "cell_type": "code",
   "execution_count": 2,
   "id": "9621fa19",
   "metadata": {},
   "outputs": [
    {
     "name": "stdout",
     "output_type": "stream",
     "text": [
      "3.141592653589793 2.718281828459045\n"
     ]
    }
   ],
   "source": [
    "import math\n",
    "a=math.pi\n",
    "b=math.e\n",
    "print(a,b)"
   ]
  },
  {
   "cell_type": "markdown",
   "id": "78aac4e1",
   "metadata": {},
   "source": [
    "math.ceil(x)\n",
    "کوچکترین عدد صحیح که بزرگتر یا مساوی عدد ورودی باشد را برمی گرداند.\n",
    "\n",
    "(گرد به سمت بالا)"
   ]
  },
  {
   "cell_type": "code",
   "execution_count": 4,
   "id": "8eb745bc",
   "metadata": {},
   "outputs": [
    {
     "name": "stdout",
     "output_type": "stream",
     "text": [
      "-5 4\n"
     ]
    }
   ],
   "source": [
    "m=math.ceil(-5.26)\n",
    "n=math.ceil(3.6)\n",
    "print(m,n)"
   ]
  },
  {
   "cell_type": "markdown",
   "id": "4dba8206",
   "metadata": {},
   "source": [
    "math.floor(x)\n",
    "\n",
    "بزرگترین عدد صحیح که کوچکتر یا مساوی عدد ورودی باشد را برمی گرداند\n",
    "\n",
    "(گرد به سمت پایین)"
   ]
  },
  {
   "cell_type": "code",
   "execution_count": 5,
   "id": "088ce6a5",
   "metadata": {},
   "outputs": [
    {
     "data": {
      "text/plain": [
       "-4"
      ]
     },
     "execution_count": 5,
     "metadata": {},
     "output_type": "execute_result"
    }
   ],
   "source": [
    "math.floor(-3.2987)"
   ]
  },
  {
   "cell_type": "markdown",
   "id": "819e6e70",
   "metadata": {},
   "source": [
    "math.factorial(x)\n",
    " مقدار فاکتوریل عدد ورودی را برمیگرداند\n",
    " \n",
    "math.exp(x) = $e^x$ "
   ]
  },
  {
   "cell_type": "markdown",
   "id": "ddf6ebd6",
   "metadata": {},
   "source": [
    "math.log(x[, base])\n",
    " لگاریتم در پایه عدد داده شده\n",
    " &  \n",
    "log10(x) \n",
    "لگاریتم در پایه 10\n",
    " &\n",
    "log10(x) \n",
    "لگاریتم در پایه 2"
   ]
  },
  {
   "cell_type": "markdown",
   "id": "ff7ba90f",
   "metadata": {},
   "source": [
    "math.sqrt(x): جذر می گیرد\n",
    "\n",
    "\n",
    "math.exp(x): مقدار نمایی عدد را نشان می دهد"
   ]
  },
  {
   "cell_type": "code",
   "execution_count": 7,
   "id": "d331c83d",
   "metadata": {},
   "outputs": [
    {
     "data": {
      "text/plain": [
       "0.43429448190325176"
      ]
     },
     "execution_count": 7,
     "metadata": {},
     "output_type": "execute_result"
    }
   ],
   "source": [
    "math.log(math.e, 10)"
   ]
  },
  {
   "cell_type": "code",
   "execution_count": 9,
   "id": "823e8ebc",
   "metadata": {},
   "outputs": [
    {
     "data": {
      "text/plain": [
       "5.0"
      ]
     },
     "execution_count": 9,
     "metadata": {},
     "output_type": "execute_result"
    }
   ],
   "source": [
    "math.log(32, 2) "
   ]
  },
  {
   "cell_type": "code",
   "execution_count": 11,
   "id": "a5f19f84",
   "metadata": {},
   "outputs": [
    {
     "data": {
      "text/plain": [
       "1.0"
      ]
     },
     "execution_count": 11,
     "metadata": {},
     "output_type": "execute_result"
    }
   ],
   "source": [
    "math.log10(10)"
   ]
  },
  {
   "cell_type": "markdown",
   "id": "088451de",
   "metadata": {},
   "source": [
    "math.sqrt(x) \n",
    "گرفتن ریشه دوم عدد ورودی"
   ]
  },
  {
   "cell_type": "markdown",
   "id": "ebbd2ea0",
   "metadata": {},
   "source": [
    "$x^y$:math.pow(x, y)\n",
    "عدد اول را به توان عدد دوم ورودی می رساند."
   ]
  },
  {
   "cell_type": "markdown",
   "id": "7870cb15",
   "metadata": {},
   "source": [
    "توابع مثلثاتی:\n",
    "math.sin(x), math.cos(x), math.tan(x), math.asin(x), math.acos(x), math.tan(x)\n",
    "\n",
    "در همگی آنها زاویه برحسب رادیان است."
   ]
  },
  {
   "cell_type": "code",
   "execution_count": 13,
   "id": "152e02d9",
   "metadata": {},
   "outputs": [
    {
     "data": {
      "text/plain": [
       "0.0"
      ]
     },
     "execution_count": 13,
     "metadata": {},
     "output_type": "execute_result"
    }
   ],
   "source": [
    "math.sin(0)"
   ]
  },
  {
   "cell_type": "code",
   "execution_count": 15,
   "id": "b6aee2cf",
   "metadata": {},
   "outputs": [
    {
     "data": {
      "text/plain": [
       "0.7853981633974483"
      ]
     },
     "execution_count": 15,
     "metadata": {},
     "output_type": "execute_result"
    }
   ],
   "source": [
    "math.atan(1)"
   ]
  },
  {
   "cell_type": "markdown",
   "id": "1daf0915",
   "metadata": {},
   "source": [
    "math.degrees(x) :  تبدیل زاویه از رادیان به درجه\n",
    " &&\n",
    "math.radians(x): تبدیل زاویه از درجه به رادیان"
   ]
  },
  {
   "cell_type": "code",
   "execution_count": 17,
   "id": "08681caa",
   "metadata": {},
   "outputs": [
    {
     "data": {
      "text/plain": [
       "1.0"
      ]
     },
     "execution_count": 17,
     "metadata": {},
     "output_type": "execute_result"
    }
   ],
   "source": [
    "math.sin(math.radians(90))"
   ]
  },
  {
   "cell_type": "code",
   "execution_count": 18,
   "id": "ffe0482c",
   "metadata": {},
   "outputs": [
    {
     "data": {
      "text/plain": [
       "45.0"
      ]
     },
     "execution_count": 18,
     "metadata": {},
     "output_type": "execute_result"
    }
   ],
   "source": [
    "math.degrees(0.7853981633974483)"
   ]
  },
  {
   "cell_type": "markdown",
   "id": "b4041719",
   "metadata": {},
   "source": [
    "توابع هذلولوی: math.sinh(x), math.cosh(x), math.tanh(x), math.asinh(x), math.acosh(x), math.tanh(x)"
   ]
  },
  {
   "cell_type": "markdown",
   "id": "9e6ad55d",
   "metadata": {},
   "source": [
    "lcm(a,b): a*b / gcd(a,b) : ک.م.م(   کوچکترین مضرب مشترک)\n",
    "gcd(a,b):  ب.م.م(بزرگترین مقسوم علیه مشترک)"
   ]
  },
  {
   "cell_type": "markdown",
   "id": "834b0349",
   "metadata": {},
   "source": [
    "remainder(a,b):  باقیمانده تقسیم"
   ]
  },
  {
   "cell_type": "code",
   "execution_count": 19,
   "id": "e9b21d23",
   "metadata": {},
   "outputs": [
    {
     "data": {
      "text/plain": [
       "1"
      ]
     },
     "execution_count": 19,
     "metadata": {},
     "output_type": "execute_result"
    }
   ],
   "source": [
    "math.gcd(2,3)"
   ]
  },
  {
   "cell_type": "code",
   "execution_count": 21,
   "id": "f1944403",
   "metadata": {},
   "outputs": [
    {
     "data": {
      "text/plain": [
       "-1.0"
      ]
     },
     "execution_count": 21,
     "metadata": {},
     "output_type": "execute_result"
    }
   ],
   "source": [
    "math.remainder(3,2)"
   ]
  },
  {
   "cell_type": "markdown",
   "id": "365b483b",
   "metadata": {},
   "source": [
    "برنامه ای بنویسید که از ورودی یک عدد به عنوان زاویه دریافت کند و مقدار سینوس آن را به دست بیاورد."
   ]
  },
  {
   "cell_type": "code",
   "execution_count": 1,
   "id": "bf757b6b",
   "metadata": {},
   "outputs": [],
   "source": [
    "from math import sin"
   ]
  },
  {
   "cell_type": "code",
   "execution_count": 2,
   "id": "d78aed39",
   "metadata": {},
   "outputs": [
    {
     "name": "stdout",
     "output_type": "stream",
     "text": [
      "enter a number: 35\n",
      "-0.428182669496151\n"
     ]
    }
   ],
   "source": [
    "a=eval(input('enter a number: '))\n",
    "y=sin(a)\n",
    "print(y)"
   ]
  },
  {
   "cell_type": "markdown",
   "id": "c2b93c9f",
   "metadata": {},
   "source": [
    " برنامه ای بنویسید که یک عدد از ورودی برحسب رادیان دریافت کند و در خروجی  حاصل عبارت زیر را تا دو رقم اعشار به دست بیاورد."
   ]
  },
  {
   "cell_type": "markdown",
   "id": "d4003c79",
   "metadata": {},
   "source": [
    "$y=\\sqrt(\\dfrac{\\sin^2(x) + e^x  \\cos(x^2)}{1+\\tan(x)})$"
   ]
  },
  {
   "cell_type": "code",
   "execution_count": 3,
   "id": "12e56bb9",
   "metadata": {},
   "outputs": [],
   "source": [
    "from math import e, sin, cos, tan, sqrt"
   ]
  },
  {
   "cell_type": "code",
   "execution_count": 7,
   "id": "a6ce9ac3",
   "metadata": {},
   "outputs": [
    {
     "name": "stdout",
     "output_type": "stream",
     "text": [
      "Please enter a number: 5\n"
     ]
    }
   ],
   "source": [
    "x=eval(input('Please enter a number: '))"
   ]
  },
  {
   "cell_type": "code",
   "execution_count": 8,
   "id": "05b3aa0d",
   "metadata": {},
   "outputs": [],
   "source": [
    "y=sqrt((sin(x)**2 +(e**x)* cos(x**2)/ 1+tan(x)) )"
   ]
  },
  {
   "cell_type": "code",
   "execution_count": 9,
   "id": "7508855c",
   "metadata": {},
   "outputs": [
    {
     "name": "stdout",
     "output_type": "stream",
     "text": [
      "12.026909884850166\n"
     ]
    }
   ],
   "source": [
    "print(y)"
   ]
  },
  {
   "cell_type": "code",
   "execution_count": 15,
   "id": "22ce426a",
   "metadata": {},
   "outputs": [
    {
     "data": {
      "text/plain": [
       "12.02"
      ]
     },
     "execution_count": 15,
     "metadata": {},
     "output_type": "execute_result"
    }
   ],
   "source": [
    "from math import floor\n",
    "y1=floor(y*100)/100\n",
    "y1"
   ]
  },
  {
   "cell_type": "markdown",
   "id": "e508f1d7",
   "metadata": {},
   "source": [
    "# cmath"
   ]
  },
  {
   "cell_type": "code",
   "execution_count": 2,
   "id": "966daab4",
   "metadata": {
    "ExecuteTime": {
     "end_time": "2023-06-08T07:20:00.285110400Z",
     "start_time": "2023-06-08T07:20:00.244186100Z"
    }
   },
   "outputs": [],
   "source": [
    "import cmath\n",
    "import math"
   ]
  },
  {
   "cell_type": "markdown",
   "id": "05e453e4",
   "metadata": {},
   "source": [
    "complex(a,b): عدد مختلط a+bi\n",
    "\n",
    "cmath.polar(ComplexNumber): (قطبی می کند)  طول و آرگومان عدد مختلط را می دهد\n",
    "\n",
    "cmath.phase(ComplexNumber) : آرگومان عدد را برحسب رادیان می دهد\n",
    "\n",
    "cmath.rect(r,t): تبدیل عدد برحسب طول و زاویه به مختصات دکارتی"
   ]
  },
  {
   "cell_type": "code",
   "execution_count": 22,
   "id": "ab973948",
   "metadata": {},
   "outputs": [
    {
     "data": {
      "text/plain": [
       "(3+2j)"
      ]
     },
     "execution_count": 22,
     "metadata": {},
     "output_type": "execute_result"
    }
   ],
   "source": [
    "complex(3,2)"
   ]
  },
  {
   "cell_type": "code",
   "execution_count": 29,
   "id": "a8558478",
   "metadata": {},
   "outputs": [
    {
     "data": {
      "text/plain": [
       "(1.4142135623730951, 0.7853981633974483)"
      ]
     },
     "execution_count": 29,
     "metadata": {},
     "output_type": "execute_result"
    }
   ],
   "source": [
    "cmath.polar(1+1j)"
   ]
  },
  {
   "cell_type": "code",
   "execution_count": 30,
   "id": "e683719e",
   "metadata": {},
   "outputs": [
    {
     "name": "stdout",
     "output_type": "stream",
     "text": [
      "1.4142135623730951 45.0\n"
     ]
    }
   ],
   "source": [
    "r,t=cmath.polar(1+1j)\n",
    "print(r, math.degrees(t))"
   ]
  },
  {
   "cell_type": "code",
   "execution_count": 26,
   "id": "5fc02865",
   "metadata": {},
   "outputs": [
    {
     "data": {
      "text/plain": [
       "(0.8525245220595057+0.5226872289306592j)"
      ]
     },
     "execution_count": 26,
     "metadata": {},
     "output_type": "execute_result"
    }
   ],
   "source": [
    "cmath.rect(1,0.55)"
   ]
  },
  {
   "cell_type": "code",
   "execution_count": 3,
   "id": "e56b2702",
   "metadata": {
    "ExecuteTime": {
     "end_time": "2023-06-08T07:20:06.783371400Z",
     "start_time": "2023-06-08T07:20:06.565947100Z"
    }
   },
   "outputs": [
    {
     "data": {
      "text/plain": "(0.9953231562870064+0.09660131758351607j)"
     },
     "execution_count": 3,
     "metadata": {},
     "output_type": "execute_result"
    }
   ],
   "source": [
    "cmath.rect(1,math.degrees(0.55))"
   ]
  },
  {
   "cell_type": "markdown",
   "id": "0d198fb1",
   "metadata": {},
   "source": [
    "##Methods"
   ]
  },
  {
   "cell_type": "markdown",
   "id": "8bda41b6",
   "metadata": {},
   "source": [
    "a.real:بخش حقیقی عدد مختلط\n",
    "\n",
    "a.imag: بخش موهومی عدد مختلط را می دهد\n",
    "\n",
    "a.conjugate() : مزدوج عدد مختلط را می دهد"
   ]
  },
  {
   "cell_type": "code",
   "execution_count": 31,
   "id": "fe7625a1",
   "metadata": {},
   "outputs": [
    {
     "data": {
      "text/plain": [
       "(3-2j)"
      ]
     },
     "execution_count": 31,
     "metadata": {},
     "output_type": "execute_result"
    }
   ],
   "source": [
    "a=3+2j\n",
    "a.conjugate()"
   ]
  },
  {
   "cell_type": "markdown",
   "id": "7c6cf8bc",
   "metadata": {},
   "source": [
    "تابعی بنویسید که دو عدد به عنوان اندازه و زاویه را دریافت کند و در خروجی عدد مختلط ساخته شده با این ورودی ها را برگرداند."
   ]
  },
  {
   "cell_type": "code",
   "execution_count": 33,
   "id": "8027c440",
   "metadata": {},
   "outputs": [
    {
     "data": {
      "text/plain": [
       "(2.101287955270919-3.4036140981364738j)"
      ]
     },
     "execution_count": 33,
     "metadata": {},
     "output_type": "execute_result"
    }
   ],
   "source": [
    "a=4\n",
    "b=45\n",
    "y=(cmath.rect(a,b)).conjugate()\n",
    "y"
   ]
  },
  {
   "cell_type": "code",
   "execution_count": 5,
   "id": "b40b1cb8",
   "metadata": {
    "ExecuteTime": {
     "end_time": "2023-06-07T09:27:05.585816600Z",
     "start_time": "2023-06-07T09:26:53.923140500Z"
    }
   },
   "outputs": [],
   "source": [
    "a=eval(input('Enter a number: '))\n",
    "b=eval(input('Enter a degree: '))"
   ]
  },
  {
   "cell_type": "code",
   "execution_count": 43,
   "id": "6cf19c95",
   "metadata": {},
   "outputs": [
    {
     "data": {
      "text/plain": [
       "5"
      ]
     },
     "execution_count": 43,
     "metadata": {},
     "output_type": "execute_result"
    }
   ],
   "source": [
    "a"
   ]
  },
  {
   "cell_type": "code",
   "execution_count": 44,
   "id": "98e4c98a",
   "metadata": {},
   "outputs": [
    {
     "data": {
      "text/plain": [
       "63"
      ]
     },
     "execution_count": 44,
     "metadata": {},
     "output_type": "execute_result"
    }
   ],
   "source": [
    "b"
   ]
  },
  {
   "cell_type": "code",
   "execution_count": 9,
   "id": "92a81c71",
   "metadata": {
    "ExecuteTime": {
     "end_time": "2023-06-07T09:28:01.306671400Z",
     "start_time": "2023-06-07T09:28:01.248566400Z"
    }
   },
   "outputs": [],
   "source": [
    "rad=math.radians(b)"
   ]
  },
  {
   "cell_type": "code",
   "execution_count": 13,
   "id": "7c4abcbd",
   "metadata": {
    "ExecuteTime": {
     "end_time": "2023-06-07T09:28:35.959834900Z",
     "start_time": "2023-06-07T09:28:35.914068100Z"
    }
   },
   "outputs": [],
   "source": [
    "y=(cmath.rect(a,rad)).conjugate()"
   ]
  },
  {
   "cell_type": "code",
   "execution_count": 48,
   "id": "5fdb96d8",
   "metadata": {},
   "outputs": [
    {
     "name": "stdout",
     "output_type": "stream",
     "text": [
      "(2.269952498697734-4.455032620941839j)\n"
     ]
    }
   ],
   "source": [
    "print(y)"
   ]
  },
  {
   "cell_type": "code",
   "execution_count": 14,
   "id": "0935fa16",
   "metadata": {
    "ExecuteTime": {
     "end_time": "2023-06-07T09:28:40.269648700Z",
     "start_time": "2023-06-07T09:28:40.219696900Z"
    }
   },
   "outputs": [],
   "source": [
    "re=round(y.real*1000)/1000\n",
    "im=round(y.imag*1000)/1000"
   ]
  },
  {
   "cell_type": "code",
   "execution_count": 51,
   "id": "ca674b8d",
   "metadata": {},
   "outputs": [
    {
     "name": "stdout",
     "output_type": "stream",
     "text": [
      "the complex number is:  (2.27-4.455j)\n"
     ]
    }
   ],
   "source": [
    "print(\"the complex number is: \" , complex(re,im))"
   ]
  },
  {
   "cell_type": "code",
   "execution_count": 52,
   "id": "db4f8240",
   "metadata": {},
   "outputs": [
    {
     "name": "stdout",
     "output_type": "stream",
     "text": [
      "the complex number is:  2.27 + -4.455 j\n"
     ]
    }
   ],
   "source": [
    "print(\"the complex number is: \" , re, '+', im, \"j\")"
   ]
  },
  {
   "cell_type": "code",
   "execution_count": 10,
   "id": "3cad31f3",
   "metadata": {
    "ExecuteTime": {
     "end_time": "2023-06-07T09:28:12.810278300Z",
     "start_time": "2023-06-07T09:28:12.774537800Z"
    }
   },
   "outputs": [],
   "source": [
    "w=cmath.rect(a,rad)\n",
    "re1=round(w.real*1000)/1000\n",
    "im1=round(w.imag*1000)/1000"
   ]
  },
  {
   "cell_type": "code",
   "execution_count": 16,
   "id": "28763c2e",
   "metadata": {
    "ExecuteTime": {
     "end_time": "2023-06-07T09:30:10.803363700Z",
     "start_time": "2023-06-07T09:30:10.392416700Z"
    }
   },
   "outputs": [
    {
     "data": {
      "text/plain": "<Figure size 640x480 with 1 Axes>",
      "image/png": "[encoded data removed]"
     },
     "metadata": {},
     "output_type": "display_data"
    }
   ],
   "source": [
    "import matplotlib.pyplot as plt\n",
    "plt.plot(re, im, '-.r*')\n",
    "plt.plot(re1, im1, '-.b*')\n",
    "plt.ylabel('Imaginary')\n",
    "plt.xlabel('Real')\n",
    "#plt.plot(re,im)\n",
    "plt.show()"
   ]
  },
  {
   "cell_type": "code",
   "execution_count": 16,
   "id": "a8da9545",
   "metadata": {},
   "outputs": [
    {
     "data": {
      "image/png": "[encoded data removed]",
      "text/plain": [
       "<Figure size 432x288 with 1 Axes>"
      ]
     },
     "metadata": {
      "needs_background": "light"
     },
     "output_type": "display_data"
    }
   ],
   "source": [
    "# import libraries\n",
    "import matplotlib.pyplot as plt\n",
    "import numpy as np\n",
    "\n",
    "# create data of complex numbers using numpy\n",
    "cnn= 5+6j\n",
    "# extract real part using numpy\n",
    "x = cnn.real\n",
    "# extract imaginary part using numpy\n",
    "y = cnn.imag\n",
    "\n",
    "# plot the complex numbers\n",
    "plt.plot(x, y, '-.r*')\n",
    "plt.ylabel('Imaginary')\n",
    "plt.xlabel('Real')\n",
    "plt.show()"
   ]
  },
  {
   "cell_type": "code",
   "execution_count": 17,
   "id": "245bd0cb",
   "metadata": {},
   "outputs": [
    {
     "data": {
      "image/png": "[encoded data removed]",
      "text/plain": [
       "<Figure size 432x288 with 1 Axes>"
      ]
     },
     "metadata": {
      "needs_background": "light"
     },
     "output_type": "display_data"
    }
   ],
   "source": [
    "#Using numpy for creating data of complex numbers and extracting real and imaginary parts\n",
    "\n",
    "# import libraries\n",
    "import matplotlib.pyplot as plt\n",
    "import numpy as np\n",
    "\n",
    "# create data of complex numbers using numpy\n",
    "data = np.arange(8) + 1j*np.arange(-4, 4)\n",
    "\n",
    "# extract real part using numpy\n",
    "x = data.real\n",
    "# extract imaginary part using numpy\n",
    "y = data.imag\n",
    "\n",
    "# plot the complex numbers\n",
    "plt.plot(x, y, '-.r*')\n",
    "plt.ylabel('Imaginary')\n",
    "plt.xlabel('Real')\n",
    "plt.show()\n"
   ]
  },
  {
   "cell_type": "code",
   "execution_count": 18,
   "id": "67279601",
   "metadata": {},
   "outputs": [
    {
     "data": {
      "image/png": "[encoded data removed]",
      "text/plain": [
       "<Figure size 432x288 with 1 Axes>"
      ]
     },
     "metadata": {
      "needs_background": "light"
     },
     "output_type": "display_data"
    }
   ],
   "source": [
    "#Simple plot with complex numbers over real and imaginary data\n",
    "\n",
    "# import library\n",
    "import matplotlib.pyplot as plt\n",
    "\n",
    "# create data of complex numbers\n",
    "data = [1+2j, -1+4j, 4+3j, -4, 2-1j, 3+9j, -2+6j, 5]\n",
    "\n",
    "# extract real part\n",
    "x = [ele.real for ele in data]\n",
    "# extract imaginary part\n",
    "y = [ele.imag for ele in data]\n",
    "\n",
    "# plot the complex numbers\n",
    "plt.scatter(x, y)\n",
    "plt.ylabel('Imaginary')\n",
    "plt.xlabel('Real')\n",
    "plt.show()"
   ]
  },
  {
   "cell_type": "code",
   "execution_count": 19,
   "id": "6a16ec4b",
   "metadata": {},
   "outputs": [],
   "source": [
    "def exam(cn):\n",
    "  print(\"Length of a complex number: \", abs(cn))"
   ]
  },
  {
   "cell_type": "code",
   "execution_count": 20,
   "id": "97678300",
   "metadata": {},
   "outputs": [
    {
     "name": "stdout",
     "output_type": "stream",
     "text": [
      "Length of a complex number:  0.6565321642986128\n"
     ]
    }
   ],
   "source": [
    "exam((4+3j)/(3-7j))"
   ]
  },
  {
   "cell_type": "code",
   "execution_count": 21,
   "id": "d10a3db7",
   "metadata": {},
   "outputs": [
    {
     "name": "stdout",
     "output_type": "stream",
     "text": [
      "Polar Coordinates:  (5.0, 0.9272952180016122)\n",
      "Polar to rectangular:  (-2+2.4492935982947064e-16j)\n"
     ]
    }
   ],
   "source": [
    "#Write a Python program to convert Polar coordinates to rectangular coordinates.\n",
    "\n",
    "import cmath\n",
    "cn = complex(3,4)\n",
    "# get polar coordinates\n",
    "print(\"Polar Coordinates: \",cmath.polar(cn))\n",
    "\n",
    "# polar to rectangular. Format for input is (length, ‹angle in radians›).\n",
    "#Returns a complex number\n",
    "cn1 = cmath.rect(2, cmath.pi)\n",
    "print(\"Polar to rectangular: \",cn1)"
   ]
  },
  {
   "cell_type": "code",
   "execution_count": 22,
   "id": "51883be3",
   "metadata": {},
   "outputs": [
    {
     "name": "stdout",
     "output_type": "stream",
     "text": [
      "Addition of two complex numbers :  (7-4j)\n",
      "Subtraction of two complex numbers :  (1+10j)\n",
      "Multiplication of two complex numbers :  (33-19j)\n",
      "Division of two complex numbers :  (-0.15517241379310348+0.6379310344827587j)\n"
     ]
    }
   ],
   "source": [
    "#Write a Python program to add, subtract, multiply, and divide two complex numbers.\n",
    "print(\"Addition of two complex numbers : \",(4+3j)+(3-7j))\n",
    "print(\"Subtraction of two complex numbers : \",(4+3j)-(3-7j))\n",
    "print(\"Multiplication of two complex numbers : \",(4+3j)*(3-7j))\n",
    "print(\"Division of two complex numbers : \",(4+3j)/(3-7j))"
   ]
  },
  {
   "cell_type": "code",
   "execution_count": 23,
   "id": "b9b424fb",
   "metadata": {},
   "outputs": [],
   "source": [
    "def exam2(cn1,cn2 ):\n",
    "  print(\"Division of two complex numbers : \",cn1/cn2)"
   ]
  },
  {
   "cell_type": "code",
   "execution_count": 24,
   "id": "4f9a7722",
   "metadata": {},
   "outputs": [
    {
     "name": "stdout",
     "output_type": "stream",
     "text": [
      "Division of two complex numbers :  (0.7000000000000001-0.1j)\n"
     ]
    }
   ],
   "source": [
    "exam2(1+2j , 1+3j)"
   ]
  },
  {
   "cell_type": "code",
   "execution_count": 25,
   "id": "226bf8e8",
   "metadata": {},
   "outputs": [
    {
     "name": "stdout",
     "output_type": "stream",
     "text": [
      "Complex Number:  (2+3j)\n",
      "Complex Number - Real part:  2.0\n",
      "Complex Number - Imaginary part:  3.0\n"
     ]
    }
   ],
   "source": [
    "#Write a Python program to print a complex number and its real and imaginary parts.\n",
    "\n",
    "#Initialize a complex number\n",
    "cn = complex(2,3)\n",
    "print(\"Complex Number: \",cn)\n",
    "print(\"Complex Number - Real part: \",cn.real)\n",
    "print(\"Complex Number - Imaginary part: \",cn.imag)"
   ]
  },
  {
   "cell_type": "markdown",
   "id": "1b9f4df3",
   "metadata": {},
   "source": [
    "random: برای تولید اعداد تصادفی بکار برده می شود\n",
    "\n",
    "random.randrange(a,b) : بین اعداد داده شده اعداد صحیح تصادفی ایجاد می کند."
   ]
  },
  {
   "cell_type": "code",
   "execution_count": 28,
   "id": "506e8158",
   "metadata": {},
   "outputs": [
    {
     "data": {
      "text/plain": [
       "17"
      ]
     },
     "execution_count": 28,
     "metadata": {},
     "output_type": "execute_result"
    }
   ],
   "source": [
    "import random\n",
    "random.randrange(8,18)\n"
   ]
  },
  {
   "cell_type": "markdown",
   "id": "460e62fb",
   "metadata": {},
   "source": [
    "تمرین: برنامه ای بنویسید که دو عدد از کاربر دریافت کند و دو عدد تصادفی بین حاصل ضرب و حاصل جمع آنها انتخاب کند و با آنها یک عدد مختلط ساخته و \n",
    "    مختصات قطبی آن را نیز به دست آورد. زاویه آرگومان برحسب درجه محاسبه شود. علاوه بر این عدد به دست آمده و مزدوج آن را در دستگاه اعداد مختلط رسم کنید.."
   ]
  },
  {
   "cell_type": "code",
   "execution_count": 30,
   "id": "0516465e",
   "metadata": {},
   "outputs": [
    {
     "name": "stdout",
     "output_type": "stream",
     "text": [
      "Enter a number: 5\n",
      "Enter a number: 18\n"
     ]
    },
    {
     "data": {
      "text/plain": [
       "(89+48j)"
      ]
     },
     "execution_count": 30,
     "metadata": {},
     "output_type": "execute_result"
    }
   ],
   "source": [
    "a=eval(input(\"Enter a number: \"))\n",
    "b=eval(input(\"Enter a number: \"))\n",
    "c=random.randrange(a+b,a*b)\n",
    "d=random.randrange(a+b,a*b)\n",
    "cn=complex(c,d)\n",
    "cn\n"
   ]
  },
  {
   "cell_type": "code",
   "execution_count": 33,
   "id": "a006ec33",
   "metadata": {},
   "outputs": [
    {
     "data": {
      "text/plain": [
       "(101.11874208078342, 0.4946111611837871)"
      ]
     },
     "execution_count": 33,
     "metadata": {},
     "output_type": "execute_result"
    }
   ],
   "source": [
    "r,t=cmath.polar(cn)\n",
    "r,t"
   ]
  },
  {
   "cell_type": "code",
   "execution_count": 36,
   "id": "552a98f1",
   "metadata": {},
   "outputs": [
    {
     "data": {
      "text/plain": [
       "28.33913203589589"
      ]
     },
     "execution_count": 36,
     "metadata": {},
     "output_type": "execute_result"
    }
   ],
   "source": [
    "import math\n",
    "T=math.degrees(t)\n",
    "T"
   ]
  },
  {
   "cell_type": "code",
   "execution_count": 38,
   "id": "cd9c6c2f",
   "metadata": {},
   "outputs": [
    {
     "data": {
      "image/png": "[encoded data removed]",
      "text/plain": [
       "<Figure size 432x288 with 1 Axes>"
      ]
     },
     "metadata": {
      "needs_background": "light"
     },
     "output_type": "display_data"
    }
   ],
   "source": [
    "# import libraries\n",
    "import matplotlib.pyplot as plt\n",
    "#import numpy as np\n",
    "\n",
    "# create data of complex numbers using numpy\n",
    "cn=complex(c,d)\n",
    "# extract real part using numpy\n",
    "x = cn.real\n",
    "# extract imaginary part using numpy\n",
    "y = cn.imag\n",
    "\n",
    "# plot the complex numbers\n",
    "plt.plot(x, y, '-.r*')\n",
    "plt.ylabel('Imaginary')\n",
    "plt.xlabel('Real')\n",
    "plt.show()"
   ]
  },
  {
   "cell_type": "code",
   "execution_count": null,
   "id": "3b9f38d9",
   "metadata": {},
   "outputs": [],
   "source": []
  }
 ],
 "metadata": {
  "kernelspec": {
   "display_name": "Python 3",
   "language": "python",
   "name": "python3"
  },
  "language_info": {
   "codemirror_mode": {
    "name": "ipython",
    "version": 3
   },
   "file_extension": ".py",
   "mimetype": "text/x-python",
   "name": "python",
   "nbconvert_exporter": "python",
   "pygments_lexer": "ipython3",
   "version": "3.8.8"
  }
 },
 "nbformat": 4,
 "nbformat_minor": 5
}
