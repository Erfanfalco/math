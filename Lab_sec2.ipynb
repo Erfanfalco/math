{
 "nbformat": 4,
 "nbformat_minor": 0,
 "metadata": {
  "colab": {
   "provenance": []
  },
  "kernelspec": {
   "name": "python3",
   "language": "python",
   "display_name": "Python 3 (ipykernel)"
  },
  "language_info": {
   "name": "python"
  }
 },
 "cells": [
  {
   "cell_type": "code",
   "execution_count": null,
   "metadata": {
    "id": "jvaqjYV-8eZV"
   },
   "outputs": [],
   "source": [
    "from sympy import *\n",
    "x, y, z = symbols(\"x y z\")"
   ]
  },
  {
   "cell_type": "code",
   "source": [
    "import sympy as sy\n",
    "from sympy import *"
   ],
   "metadata": {
    "id": "_VXt7svnAN1M",
    "ExecuteTime": {
     "end_time": "2023-06-08T07:25:39.508629600Z",
     "start_time": "2023-06-08T07:25:32.568453300Z"
    }
   },
   "execution_count": 4,
   "outputs": []
  },
  {
   "cell_type": "markdown",
   "source": [
    "####نماد های سمبولیک برای کار"
   ],
   "metadata": {
    "id": "uOUUnS7SA9Rn"
   }
  },
  {
   "cell_type": "code",
   "source": [
    "x, y = sy.symbols('x y')"
   ],
   "metadata": {
    "id": "k_muMyfVAidx",
    "ExecuteTime": {
     "end_time": "2023-06-08T07:25:41.449253400Z",
     "start_time": "2023-06-08T07:25:41.432587500Z"
    }
   },
   "execution_count": 5,
   "outputs": []
  },
  {
   "cell_type": "markdown",
   "source": [
    "#####تعریف تابع"
   ],
   "metadata": {
    "id": "9kEp0MJSBJBv"
   }
  },
  {
   "cell_type": "code",
   "source": [
    "f=x**2 + y\n",
    "f"
   ],
   "metadata": {
    "colab": {
     "base_uri": "https://localhost:8080/",
     "height": 38
    },
    "id": "kqHhMkcGBIU_",
    "outputId": "cd99ee14-8205-48df-fcd9-17eedf778e10",
    "ExecuteTime": {
     "end_time": "2023-06-08T07:25:47.345959100Z",
     "start_time": "2023-06-08T07:25:46.916194500Z"
    }
   },
   "execution_count": 6,
   "outputs": [
    {
     "data": {
      "text/plain": "x**2 + y",
      "text/latex": "$\\displaystyle x^{2} + y$"
     },
     "execution_count": 6,
     "metadata": {},
     "output_type": "execute_result"
    }
   ]
  },
  {
   "cell_type": "code",
   "source": [
    "f.subs(x,2)\n",
    "#f.subs(y,7)"
   ],
   "metadata": {
    "colab": {
     "base_uri": "https://localhost:8080/",
     "height": 38
    },
    "id": "yyZNni2SBPQd",
    "outputId": "164b57fb-cf07-4745-c020-4386f83846de",
    "ExecuteTime": {
     "end_time": "2023-06-08T07:26:36.814124800Z",
     "start_time": "2023-06-08T07:26:36.769259100Z"
    }
   },
   "execution_count": 10,
   "outputs": [
    {
     "data": {
      "text/plain": "y + 4",
      "text/latex": "$\\displaystyle y + 4$"
     },
     "execution_count": 10,
     "metadata": {},
     "output_type": "execute_result"
    }
   ]
  },
  {
   "cell_type": "code",
   "source": [
    "g=sy.sin(x)\n",
    "g"
   ],
   "metadata": {
    "colab": {
     "base_uri": "https://localhost:8080/",
     "height": 38
    },
    "id": "hZksRJ9oBab2",
    "outputId": "09cb1824-bc24-41c4-81c2-7537936b111a"
   },
   "execution_count": null,
   "outputs": [
    {
     "output_type": "execute_result",
     "data": {
      "text/plain": [
       "sin(x)"
      ],
      "text/latex": "$\\displaystyle \\sin{\\left(x \\right)}$"
     },
     "metadata": {},
     "execution_count": 6
    }
   ]
  },
  {
   "cell_type": "code",
   "source": [
    "h=sy.log(x,10)\n",
    "h"
   ],
   "metadata": {
    "colab": {
     "base_uri": "https://localhost:8080/",
     "height": 57
    },
    "id": "sD2LzteEBiqv",
    "outputId": "d024d6d7-fb48-4864-9d79-2b1d92743ba9"
   },
   "execution_count": null,
   "outputs": [
    {
     "output_type": "execute_result",
     "data": {
      "text/plain": [
       "log(x)/log(10)"
      ],
      "text/latex": "$\\displaystyle \\frac{\\log{\\left(x \\right)}}{\\log{\\left(10 \\right)}}$"
     },
     "metadata": {},
     "execution_count": 7
    }
   ]
  },
  {
   "cell_type": "code",
   "source": [
    "x**(3/2)"
   ],
   "metadata": {
    "colab": {
     "base_uri": "https://localhost:8080/",
     "height": 38
    },
    "id": "2eyKXwXVByYy",
    "outputId": "b6cc0bb4-9612-49c7-beb9-57169a927381"
   },
   "execution_count": null,
   "outputs": [
    {
     "output_type": "execute_result",
     "data": {
      "text/plain": [
       "x**1.5"
      ],
      "text/latex": "$\\displaystyle x^{1.5}$"
     },
     "metadata": {},
     "execution_count": 8
    }
   ]
  },
  {
   "cell_type": "code",
   "source": [
    "x**(sy.Rational(3,2))"
   ],
   "metadata": {
    "colab": {
     "base_uri": "https://localhost:8080/",
     "height": 40
    },
    "id": "mKp4mKzZCltS",
    "outputId": "0a09bd38-4d7a-4ef9-cebe-5efb14b48d9e"
   },
   "execution_count": null,
   "outputs": [
    {
     "output_type": "execute_result",
     "data": {
      "text/plain": [
       "x**(3/2)"
      ],
      "text/latex": "$\\displaystyle x^{\\frac{3}{2}}$"
     },
     "metadata": {},
     "execution_count": 9
    }
   ]
  },
  {
   "cell_type": "code",
   "source": [
    "Q=x**(sy.Rational(3,2))\n",
    "Q.subs(x,2)"
   ],
   "metadata": {
    "colab": {
     "base_uri": "https://localhost:8080/",
     "height": 38
    },
    "id": "czL3MwVDtvI_",
    "outputId": "424c0666-9a2d-4e07-8ec1-b597eeb28b8b",
    "ExecuteTime": {
     "end_time": "2023-06-08T07:27:34.065247Z",
     "start_time": "2023-06-08T07:27:34.003600300Z"
    }
   },
   "execution_count": 11,
   "outputs": [
    {
     "data": {
      "text/plain": "2*sqrt(2)",
      "text/latex": "$\\displaystyle 2 \\sqrt{2}$"
     },
     "execution_count": 11,
     "metadata": {},
     "output_type": "execute_result"
    }
   ]
  },
  {
   "cell_type": "code",
   "source": [
    "Q.subs(x,2).evalf()"
   ],
   "metadata": {
    "colab": {
     "base_uri": "https://localhost:8080/",
     "height": 38
    },
    "id": "IHZVtha2uA-R",
    "outputId": "f979ae7e-4bad-4828-96c7-1cbb5ad118d8",
    "ExecuteTime": {
     "end_time": "2023-06-08T07:28:02.950726700Z",
     "start_time": "2023-06-08T07:28:02.905579800Z"
    }
   },
   "execution_count": 14,
   "outputs": [
    {
     "data": {
      "text/plain": "2.82842712474619",
      "text/latex": "$\\displaystyle 2.82842712474619$"
     },
     "execution_count": 14,
     "metadata": {},
     "output_type": "execute_result"
    }
   ]
  },
  {
   "cell_type": "markdown",
   "source": [
    "#####حد گیری"
   ],
   "metadata": {
    "id": "3F3HnqBPtq87"
   }
  },
  {
   "cell_type": "markdown",
   "source": [
    "\\begin{equation}\n",
    "\\lim_{x→ \\pi} \\dfrac{sin(x^2)}{cos(x)}+e^{tan(x)}-1\n",
    "\\end{equation}"
   ],
   "metadata": {
    "id": "xt1s9e6VFXfx"
   }
  },
  {
   "cell_type": "code",
   "source": [
    "F=sy.sin(x**2) / sy.cos(x) +sy.exp(sy.tan(x)) +1\n",
    "F"
   ],
   "metadata": {
    "colab": {
     "base_uri": "https://localhost:8080/",
     "height": 60
    },
    "id": "sIzgb3c8C9wI",
    "outputId": "004560fe-3a68-4ab7-a1cc-4a3d097881d3"
   },
   "execution_count": null,
   "outputs": [
    {
     "output_type": "execute_result",
     "data": {
      "text/plain": [
       "exp(tan(x)) + sin(x**2)/cos(x) + 1"
      ],
      "text/latex": "$\\displaystyle e^{\\tan{\\left(x \\right)}} + \\frac{\\sin{\\left(x^{2} \\right)}}{\\cos{\\left(x \\right)}} + 1$"
     },
     "metadata": {},
     "execution_count": 14
    }
   ]
  },
  {
   "cell_type": "code",
   "source": [
    "sy.limit(F, x, sy.pi)"
   ],
   "metadata": {
    "colab": {
     "base_uri": "https://localhost:8080/",
     "height": 38
    },
    "id": "WGaKp51UGUQJ",
    "outputId": "58861613-af7b-45b4-ea73-4c53a7007f11"
   },
   "execution_count": null,
   "outputs": [
    {
     "output_type": "execute_result",
     "data": {
      "text/plain": [
       "2 - sin(pi**2)"
      ],
      "text/latex": "$\\displaystyle 2 - \\sin{\\left(\\pi^{2} \\right)}$"
     },
     "metadata": {},
     "execution_count": 15
    }
   ]
  },
  {
   "cell_type": "code",
   "source": [
    "(sy.limit(F, x, sy.pi)).evalf()"
   ],
   "metadata": {
    "colab": {
     "base_uri": "https://localhost:8080/",
     "height": 38
    },
    "id": "mcy5EJ6IHjpu",
    "outputId": "80cbf619-2c45-4402-8949-be73181c44f3"
   },
   "execution_count": null,
   "outputs": [
    {
     "output_type": "execute_result",
     "data": {
      "text/plain": [
       "2.43030121700009"
      ],
      "text/latex": "$\\displaystyle 2.43030121700009$"
     },
     "metadata": {},
     "execution_count": 16
    }
   ]
  },
  {
   "cell_type": "code",
   "source": [
    "from math import degrees, radians\n",
    "#radians(sy.pi**2)\n",
    "degrees(sy.pi**2)"
   ],
   "metadata": {
    "colab": {
     "base_uri": "https://localhost:8080/"
    },
    "id": "WsNkomu5GkGc",
    "outputId": "aa8eed53-d0ac-4afb-914b-489a64f0e22a",
    "ExecuteTime": {
     "end_time": "2023-06-08T07:30:14.898486800Z",
     "start_time": "2023-06-08T07:30:14.879329800Z"
    }
   },
   "execution_count": 17,
   "outputs": [
    {
     "data": {
      "text/plain": "565.4866776461628"
     },
     "execution_count": 17,
     "metadata": {},
     "output_type": "execute_result"
    }
   ]
  },
  {
   "cell_type": "markdown",
   "source": [
    "حدود یک طرفه (حد چپ و راست)"
   ],
   "metadata": {
    "id": "5LkM9iBgvaro"
   }
  },
  {
   "cell_type": "markdown",
   "source": [
    "\n",
    "\\begin{equation}\n",
    "\\lim_{x →0^+} \\dfrac{sin(x^2)}{cos(x)} +\\dfrac{1}{e^{x^2}} +e^{tan(x)}\n",
    "\\end{equation}"
   ],
   "metadata": {
    "id": "o_gB1HLPuJ4y"
   }
  },
  {
   "cell_type": "code",
   "source": [
    "G= sy.sin(x**2) / sy.cos(x) +sy.exp(sy.tan(x)) +1/sy.exp(x**2)\n",
    "G"
   ],
   "metadata": {
    "colab": {
     "base_uri": "https://localhost:8080/",
     "height": 60
    },
    "id": "JHLQKshXG7fF",
    "outputId": "690ea83b-9250-48da-cbc2-c6fbafd1ad7f"
   },
   "execution_count": null,
   "outputs": [
    {
     "output_type": "execute_result",
     "data": {
      "text/plain": [
       "exp(tan(x)) + sin(x**2)/cos(x) + exp(-x**2)"
      ],
      "text/latex": "$\\displaystyle e^{\\tan{\\left(x \\right)}} + \\frac{\\sin{\\left(x^{2} \\right)}}{\\cos{\\left(x \\right)}} + e^{- x^{2}}$"
     },
     "metadata": {},
     "execution_count": 18
    }
   ]
  },
  {
   "cell_type": "code",
   "source": [
    "sy.limit(G, x, 0, dir='+' )"
   ],
   "metadata": {
    "colab": {
     "base_uri": "https://localhost:8080/",
     "height": 38
    },
    "id": "rwSP_JxmISK2",
    "outputId": "84cf2a43-4006-4180-cec9-ac7ccffcf62e"
   },
   "execution_count": null,
   "outputs": [
    {
     "output_type": "execute_result",
     "data": {
      "text/plain": [
       "2"
      ],
      "text/latex": "$\\displaystyle 2$"
     },
     "metadata": {},
     "execution_count": 19
    }
   ]
  },
  {
   "cell_type": "markdown",
   "source": [
    "$\\lim_{x→ 0^-} \\dfrac{2 e^{(1/x)}}{e^{1/x} + 1}$"
   ],
   "metadata": {
    "id": "2Jt1EYQuIgYf"
   }
  },
  {
   "cell_type": "code",
   "source": [
    "H= (2*sy.exp(1/x)) / (sy.exp(1/x) + 1)\n",
    "H"
   ],
   "metadata": {
    "colab": {
     "base_uri": "https://localhost:8080/",
     "height": 60
    },
    "id": "5hPIGV6EIeRI",
    "outputId": "478dc234-9e31-46fa-8b29-23202f5cdb17"
   },
   "execution_count": null,
   "outputs": [
    {
     "output_type": "execute_result",
     "data": {
      "text/plain": [
       "2*exp(1/x)/(exp(1/x) + 1)"
      ],
      "text/latex": "$\\displaystyle \\frac{2 e^{\\frac{1}{x}}}{e^{\\frac{1}{x}} + 1}$"
     },
     "metadata": {},
     "execution_count": 34
    }
   ]
  },
  {
   "cell_type": "code",
   "source": [
    "sy.limit(H, x, 0, dir='-' )"
   ],
   "metadata": {
    "colab": {
     "base_uri": "https://localhost:8080/",
     "height": 38
    },
    "id": "lEQ1GLwsIVC1",
    "outputId": "2ce33343-3d80-45b6-cb87-5441fa0deebe"
   },
   "execution_count": null,
   "outputs": [
    {
     "output_type": "execute_result",
     "data": {
      "text/plain": [
       "0"
      ],
      "text/latex": "$\\displaystyle 0$"
     },
     "metadata": {},
     "execution_count": 35
    }
   ]
  },
  {
   "cell_type": "code",
   "source": [
    "sy.limit(H, x, 0, dir='+' )"
   ],
   "metadata": {
    "colab": {
     "base_uri": "https://localhost:8080/",
     "height": 38
    },
    "id": "JcSX4RbTJRrA",
    "outputId": "fae0e592-6e50-4351-fea8-3786a91ad732"
   },
   "execution_count": null,
   "outputs": [
    {
     "output_type": "execute_result",
     "data": {
      "text/plain": [
       "2"
      ],
      "text/latex": "$\\displaystyle 2$"
     },
     "metadata": {},
     "execution_count": 36
    }
   ]
  },
  {
   "cell_type": "code",
   "source": [
    "sy.limit(H, x, 0 )"
   ],
   "metadata": {
    "colab": {
     "base_uri": "https://localhost:8080/",
     "height": 38
    },
    "id": "DwSF05JuJcPH",
    "outputId": "08676d1d-6f12-4288-a99c-3079d65414f9"
   },
   "execution_count": null,
   "outputs": [
    {
     "output_type": "execute_result",
     "data": {
      "text/plain": [
       "2"
      ],
      "text/latex": "$\\displaystyle 2$"
     },
     "metadata": {},
     "execution_count": 37
    }
   ]
  },
  {
   "cell_type": "markdown",
   "source": [
    "#### sy.oo : $∞$"
   ],
   "metadata": {
    "id": "XJ9rqXEnKl1l"
   }
  },
  {
   "cell_type": "code",
   "source": [
    "sy.limit(H, x, sy.oo )"
   ],
   "metadata": {
    "colab": {
     "base_uri": "https://localhost:8080/",
     "height": 38
    },
    "id": "5dHYJY8qJgaq",
    "outputId": "5c00c3ae-6795-4083-e171-78ab0ef633fe"
   },
   "execution_count": null,
   "outputs": [
    {
     "output_type": "execute_result",
     "data": {
      "text/plain": [
       "1"
      ],
      "text/latex": "$\\displaystyle 1$"
     },
     "metadata": {},
     "execution_count": 38
    }
   ]
  },
  {
   "cell_type": "markdown",
   "source": [
    "####مشتق گیری"
   ],
   "metadata": {
    "id": "EK4ds5jjLqIz"
   }
  },
  {
   "cell_type": "markdown",
   "source": [
    "\\begin{equation}\n",
    "d/dx [\\dfrac{1+sin(x^2)}{1-cos(\\sqrt(x))}]^3 =???\n",
    "\\end{equation}"
   ],
   "metadata": {
    "id": "r8tVR8QeLvEM"
   }
  },
  {
   "cell_type": "code",
   "source": [
    "K= ((1+sy.sin(x**2))/(1-sy.cos(sy.sqrt(x))))**3\n",
    "K"
   ],
   "metadata": {
    "colab": {
     "base_uri": "https://localhost:8080/",
     "height": 67
    },
    "id": "QqUEByblMFRH",
    "outputId": "a5740567-91d7-497d-92f9-6eb7cd85acd6"
   },
   "execution_count": null,
   "outputs": [
    {
     "output_type": "execute_result",
     "data": {
      "text/plain": [
       "(sin(x**2) + 1)**3/(1 - cos(sqrt(x)))**3"
      ],
      "text/latex": "$\\displaystyle \\frac{\\left(\\sin{\\left(x^{2} \\right)} + 1\\right)^{3}}{\\left(1 - \\cos{\\left(\\sqrt{x} \\right)}\\right)^{3}}$"
     },
     "metadata": {},
     "execution_count": 20
    }
   ]
  },
  {
   "cell_type": "code",
   "source": [
    "sy.diff(K, x)"
   ],
   "metadata": {
    "colab": {
     "base_uri": "https://localhost:8080/",
     "height": 67
    },
    "id": "l6aQPoN2KHZC",
    "outputId": "47e23a49-2de5-4917-9b9b-c9a3e176b105"
   },
   "execution_count": null,
   "outputs": [
    {
     "output_type": "execute_result",
     "data": {
      "text/plain": [
       "6*x*(sin(x**2) + 1)**2*cos(x**2)/(1 - cos(sqrt(x)))**3 - 3*(sin(x**2) + 1)**3*sin(sqrt(x))/(2*sqrt(x)*(1 - cos(sqrt(x)))**4)"
      ],
      "text/latex": "$\\displaystyle \\frac{6 x \\left(\\sin{\\left(x^{2} \\right)} + 1\\right)^{2} \\cos{\\left(x^{2} \\right)}}{\\left(1 - \\cos{\\left(\\sqrt{x} \\right)}\\right)^{3}} - \\frac{3 \\left(\\sin{\\left(x^{2} \\right)} + 1\\right)^{3} \\sin{\\left(\\sqrt{x} \\right)}}{2 \\sqrt{x} \\left(1 - \\cos{\\left(\\sqrt{x} \\right)}\\right)^{4}}$"
     },
     "metadata": {},
     "execution_count": 21
    }
   ]
  },
  {
   "cell_type": "markdown",
   "source": [
    "\n",
    "\n",
    "$\\dfrac{d}{dx}[\\dfrac{y+sin(x^2)}{1-cos(\\sqrt(y))}]=??? $\n"
   ],
   "metadata": {
    "id": "__udV7bVwnLZ"
   }
  },
  {
   "cell_type": "code",
   "source": [
    "K2= ((y+sy.sin(x**2))/(1-sy.cos(sy.sqrt(y))))**3\n",
    "K2"
   ],
   "metadata": {
    "colab": {
     "base_uri": "https://localhost:8080/",
     "height": 69
    },
    "id": "Y3j6Wo-MMfR8",
    "outputId": "1c241512-ef23-4377-aa28-7cb994726030"
   },
   "execution_count": null,
   "outputs": [
    {
     "output_type": "execute_result",
     "data": {
      "text/plain": [
       "(y + sin(x**2))**3/(1 - cos(sqrt(y)))**3"
      ],
      "text/latex": "$\\displaystyle \\frac{\\left(y + \\sin{\\left(x^{2} \\right)}\\right)^{3}}{\\left(1 - \\cos{\\left(\\sqrt{y} \\right)}\\right)^{3}}$"
     },
     "metadata": {},
     "execution_count": 22
    }
   ]
  },
  {
   "cell_type": "code",
   "source": [
    "sy.diff(K2, x)"
   ],
   "metadata": {
    "colab": {
     "base_uri": "https://localhost:8080/",
     "height": 69
    },
    "id": "ed7uCYexMzCr",
    "outputId": "7cf59946-f291-47ea-8f3f-ac519734a03c"
   },
   "execution_count": null,
   "outputs": [
    {
     "output_type": "execute_result",
     "data": {
      "text/plain": [
       "6*x*(y + sin(x**2))**2*cos(x**2)/(1 - cos(sqrt(y)))**3"
      ],
      "text/latex": "$\\displaystyle \\frac{6 x \\left(y + \\sin{\\left(x^{2} \\right)}\\right)^{2} \\cos{\\left(x^{2} \\right)}}{\\left(1 - \\cos{\\left(\\sqrt{y} \\right)}\\right)^{3}}$"
     },
     "metadata": {},
     "execution_count": 23
    }
   ]
  },
  {
   "cell_type": "code",
   "source": [
    "K3= sy.log(x, 4)**(x/2) -1\n",
    "K3"
   ],
   "metadata": {
    "colab": {
     "base_uri": "https://localhost:8080/",
     "height": 62
    },
    "id": "QZejgbwlM2DO",
    "outputId": "3952a819-587f-4e52-f554-76a1bc0469ff"
   },
   "execution_count": null,
   "outputs": [
    {
     "output_type": "execute_result",
     "data": {
      "text/plain": [
       "(log(x)/log(4))**(x/2) - 1"
      ],
      "text/latex": "$\\displaystyle \\left(\\frac{\\log{\\left(x \\right)}}{\\log{\\left(4 \\right)}}\\right)^{\\frac{x}{2}} - 1$"
     },
     "metadata": {},
     "execution_count": 24
    }
   ]
  },
  {
   "cell_type": "code",
   "source": [
    "sy.diff(K3, x)"
   ],
   "metadata": {
    "colab": {
     "base_uri": "https://localhost:8080/",
     "height": 81
    },
    "id": "t04-T0f9NIHy",
    "outputId": "eb384127-6688-41ae-84c4-19482910790f"
   },
   "execution_count": null,
   "outputs": [
    {
     "output_type": "execute_result",
     "data": {
      "text/plain": [
       "(log(x)/log(4))**(x/2)*(log(log(x)/log(4))/2 + 1/(2*log(x)))"
      ],
      "text/latex": "$\\displaystyle \\left(\\frac{\\log{\\left(x \\right)}}{\\log{\\left(4 \\right)}}\\right)^{\\frac{x}{2}} \\left(\\frac{\\log{\\left(\\frac{\\log{\\left(x \\right)}}{\\log{\\left(4 \\right)}} \\right)}}{2} + \\frac{1}{2 \\log{\\left(x \\right)}}\\right)$"
     },
     "metadata": {},
     "execution_count": 25
    }
   ]
  },
  {
   "cell_type": "code",
   "source": [
    "sy.diff(K2+K3, x)"
   ],
   "metadata": {
    "colab": {
     "base_uri": "https://localhost:8080/",
     "height": 81
    },
    "id": "7jYi2OY1NNov",
    "outputId": "a7ef9366-f7b9-412b-8a80-b45dbfcf778b"
   },
   "execution_count": null,
   "outputs": [
    {
     "output_type": "execute_result",
     "data": {
      "text/plain": [
       "6*x*(y + sin(x**2))**2*cos(x**2)/(1 - cos(sqrt(y)))**3 + (log(x)/log(4))**(x/2)*(log(log(x)/log(4))/2 + 1/(2*log(x)))"
      ],
      "text/latex": "$\\displaystyle \\frac{6 x \\left(y + \\sin{\\left(x^{2} \\right)}\\right)^{2} \\cos{\\left(x^{2} \\right)}}{\\left(1 - \\cos{\\left(\\sqrt{y} \\right)}\\right)^{3}} + \\left(\\frac{\\log{\\left(x \\right)}}{\\log{\\left(4 \\right)}}\\right)^{\\frac{x}{2}} \\left(\\frac{\\log{\\left(\\frac{\\log{\\left(x \\right)}}{\\log{\\left(4 \\right)}} \\right)}}{2} + \\frac{1}{2 \\log{\\left(x \\right)}}\\right)$"
     },
     "metadata": {},
     "execution_count": 26
    }
   ]
  },
  {
   "cell_type": "code",
   "source": [
    "f, g = sy.symbols('f g', cls=sy.Function)\n",
    "g = g(x)\n",
    "f = f(x+g)"
   ],
   "metadata": {
    "id": "SnyUphaHNXus"
   },
   "execution_count": null,
   "outputs": []
  },
  {
   "cell_type": "code",
   "source": [
    "g"
   ],
   "metadata": {
    "colab": {
     "base_uri": "https://localhost:8080/",
     "height": 38
    },
    "id": "jnMBdGAexT8B",
    "outputId": "ef13e893-2531-4c08-b9be-6af5724d4cd8"
   },
   "execution_count": null,
   "outputs": [
    {
     "output_type": "execute_result",
     "data": {
      "text/plain": [
       "g(x)"
      ],
      "text/latex": "$\\displaystyle g{\\left(x \\right)}$"
     },
     "metadata": {},
     "execution_count": 28
    }
   ]
  },
  {
   "cell_type": "code",
   "source": [
    "f"
   ],
   "metadata": {
    "colab": {
     "base_uri": "https://localhost:8080/",
     "height": 38
    },
    "id": "cdMccyfdxVXM",
    "outputId": "c1c4b4c6-899e-4dcd-8641-291106fd0743"
   },
   "execution_count": null,
   "outputs": [
    {
     "output_type": "execute_result",
     "data": {
      "text/plain": [
       "f(x + g(x))"
      ],
      "text/latex": "$\\displaystyle f{\\left(x + g{\\left(x \\right)} \\right)}$"
     },
     "metadata": {},
     "execution_count": 29
    }
   ]
  },
  {
   "cell_type": "code",
   "source": [
    "sy.diff(f,x)"
   ],
   "metadata": {
    "colab": {
     "base_uri": "https://localhost:8080/",
     "height": 62
    },
    "id": "YDR7iIzQNkT8",
    "outputId": "2ea6fe4d-ab23-414a-85d7-0a3b9f12a864"
   },
   "execution_count": null,
   "outputs": [
    {
     "output_type": "execute_result",
     "data": {
      "text/plain": [
       "(Derivative(g(x), x) + 1)*Subs(Derivative(f(_xi_1), _xi_1), _xi_1, x + g(x))"
      ],
      "text/latex": "$\\displaystyle \\left(\\frac{d}{d x} g{\\left(x \\right)} + 1\\right) \\left. \\frac{d}{d \\xi_{1}} f{\\left(\\xi_{1} \\right)} \\right|_{\\substack{ \\xi_{1}=x + g{\\left(x \\right)} }}$"
     },
     "metadata": {},
     "execution_count": 30
    }
   ]
  },
  {
   "cell_type": "code",
   "source": [
    "L= 1/x**2 +5*x\n",
    "L1= sy.diff(L,x)\n",
    "L2= sy.diff(L1,x)\n",
    "L2"
   ],
   "metadata": {
    "colab": {
     "base_uri": "https://localhost:8080/",
     "height": 51
    },
    "id": "PsKD7Bkwx9gp",
    "outputId": "6338de8a-bd0f-4b3f-d2ca-fce0220fd424"
   },
   "execution_count": null,
   "outputs": [
    {
     "output_type": "execute_result",
     "data": {
      "text/plain": [
       "6/x**4"
      ],
      "text/latex": "$\\displaystyle \\frac{6}{x^{4}}$"
     },
     "metadata": {},
     "execution_count": 32
    }
   ]
  },
  {
   "cell_type": "markdown",
   "source": [
    "#### انتگرال گیری"
   ],
   "metadata": {
    "id": "u9e1lwlLPrpH"
   }
  },
  {
   "cell_type": "markdown",
   "source": [
    "####انتگرال نامعین"
   ],
   "metadata": {
    "id": "AWMFQ3hPRfxV"
   }
  },
  {
   "cell_type": "markdown",
   "source": [
    "$W(x)= csc(x) cot(x) +e^{(1+x)}$\n",
    "\n",
    "$\\int W(x) dx=???$"
   ],
   "metadata": {
    "id": "G0Pf5r_0yYGJ"
   }
  },
  {
   "cell_type": "code",
   "source": [
    "W=sy.csc(x)*sy.cot(x) +sy.exp(1+x)\n",
    "W"
   ],
   "metadata": {
    "colab": {
     "base_uri": "https://localhost:8080/",
     "height": 38
    },
    "id": "2KJZgQ8-NvrD",
    "outputId": "e5fc748d-74b5-4ca2-f979-57f295f13195"
   },
   "execution_count": null,
   "outputs": [
    {
     "output_type": "execute_result",
     "data": {
      "text/plain": [
       "exp(x + 1) + cot(x)*csc(x)"
      ],
      "text/latex": "$\\displaystyle e^{x + 1} + \\cot{\\left(x \\right)} \\csc{\\left(x \\right)}$"
     },
     "metadata": {},
     "execution_count": 33
    }
   ]
  },
  {
   "cell_type": "code",
   "source": [
    "sy.integrate(W, x)"
   ],
   "metadata": {
    "colab": {
     "base_uri": "https://localhost:8080/",
     "height": 55
    },
    "id": "bnkmDTGDP4qK",
    "outputId": "cdb7f5ce-1e2b-4c4d-e78a-584cc3526833"
   },
   "execution_count": null,
   "outputs": [
    {
     "output_type": "execute_result",
     "data": {
      "text/plain": [
       "exp(x + 1) - 1/sin(x)"
      ],
      "text/latex": "$\\displaystyle e^{x + 1} - \\frac{1}{\\sin{\\left(x \\right)}}$"
     },
     "metadata": {},
     "execution_count": 34
    }
   ]
  },
  {
   "cell_type": "markdown",
   "source": [
    "$W(x)= 4sec(3x)tan(3x)+log(x^2+1)$\n",
    "\n",
    "\n",
    "$\\int W(x) dx=???$"
   ],
   "metadata": {
    "id": "HLrfS4pNysxR"
   }
  },
  {
   "cell_type": "code",
   "source": [
    "W2=4*sy.sec(3*x)*sy.tan(3*x)+sy.log(x**2+1)\n",
    "W2"
   ],
   "metadata": {
    "colab": {
     "base_uri": "https://localhost:8080/",
     "height": 38
    },
    "id": "Ys7iI-g1QHZr",
    "outputId": "44f1ec1d-c622-4aaa-dc9d-e6199e1857c0"
   },
   "execution_count": null,
   "outputs": [
    {
     "output_type": "execute_result",
     "data": {
      "text/plain": [
       "log(x**2 + 1) + 4*tan(3*x)*sec(3*x)"
      ],
      "text/latex": "$\\displaystyle \\log{\\left(x^{2} + 1 \\right)} + 4 \\tan{\\left(3 x \\right)} \\sec{\\left(3 x \\right)}$"
     },
     "metadata": {},
     "execution_count": 35
    }
   ]
  },
  {
   "cell_type": "code",
   "source": [
    "sy.integrate(W2, x)"
   ],
   "metadata": {
    "colab": {
     "base_uri": "https://localhost:8080/",
     "height": 55
    },
    "id": "AaHiu7oPP_ih",
    "outputId": "9e65939a-c16d-44ca-f63e-160f1e2d0487"
   },
   "execution_count": null,
   "outputs": [
    {
     "output_type": "execute_result",
     "data": {
      "text/plain": [
       "x*log(x**2 + 1) - 2*x + 2*atan(x) + 4/(3*cos(3*x))"
      ],
      "text/latex": "$\\displaystyle x \\log{\\left(x^{2} + 1 \\right)} - 2 x + 2 \\operatorname{atan}{\\left(x \\right)} + \\frac{4}{3 \\cos{\\left(3 x \\right)}}$"
     },
     "metadata": {},
     "execution_count": 36
    }
   ]
  },
  {
   "cell_type": "code",
   "source": [
    "W3=2/sy.sqrt(1-x**2) - 1/x**sy.Rational(3,4)+ W2\n",
    "W3"
   ],
   "metadata": {
    "colab": {
     "base_uri": "https://localhost:8080/",
     "height": 55
    },
    "id": "ifQxa8vbQTTv",
    "outputId": "202a843a-52af-446c-b0f8-614303e076fa"
   },
   "execution_count": null,
   "outputs": [
    {
     "output_type": "execute_result",
     "data": {
      "text/plain": [
       "log(x**2 + 1) + 4*tan(3*x)*sec(3*x) + 2/sqrt(1 - x**2) - 1/x**(3/4)"
      ],
      "text/latex": "$\\displaystyle \\log{\\left(x^{2} + 1 \\right)} + 4 \\tan{\\left(3 x \\right)} \\sec{\\left(3 x \\right)} + \\frac{2}{\\sqrt{1 - x^{2}}} - \\frac{1}{x^{\\frac{3}{4}}}$"
     },
     "metadata": {},
     "execution_count": 37
    }
   ]
  },
  {
   "cell_type": "code",
   "source": [
    "sy.integrate(W3, x)"
   ],
   "metadata": {
    "colab": {
     "base_uri": "https://localhost:8080/",
     "height": 55
    },
    "id": "pIar25sYQkf6",
    "outputId": "8cb6705f-6cae-4d39-f739-6d64eb69e762"
   },
   "execution_count": null,
   "outputs": [
    {
     "output_type": "execute_result",
     "data": {
      "text/plain": [
       "-4*x**(1/4) + x*log(x**2 + 1) - 2*x + 2*asin(x) + 2*atan(x) + 4/(3*cos(3*x))"
      ],
      "text/latex": "$\\displaystyle - 4 \\sqrt[4]{x} + x \\log{\\left(x^{2} + 1 \\right)} - 2 x + 2 \\operatorname{asin}{\\left(x \\right)} + 2 \\operatorname{atan}{\\left(x \\right)} + \\frac{4}{3 \\cos{\\left(3 x \\right)}}$"
     },
     "metadata": {},
     "execution_count": 38
    }
   ]
  },
  {
   "cell_type": "code",
   "source": [
    "W4=(2+3*sy.sqrt(x))**sy.Rational(1,3) / sy.sqrt(x)\n",
    "W4"
   ],
   "metadata": {
    "colab": {
     "base_uri": "https://localhost:8080/",
     "height": 61
    },
    "id": "D99u30nUQpRK",
    "outputId": "61f6543d-776b-437e-d67a-88be563e83b3"
   },
   "execution_count": null,
   "outputs": [
    {
     "output_type": "execute_result",
     "data": {
      "text/plain": [
       "(3*sqrt(x) + 2)**(1/3)/sqrt(x)"
      ],
      "text/latex": "$\\displaystyle \\frac{\\sqrt[3]{3 \\sqrt{x} + 2}}{\\sqrt{x}}$"
     },
     "metadata": {},
     "execution_count": 39
    }
   ]
  },
  {
   "cell_type": "code",
   "source": [
    "sy.integrate(W4, x)"
   ],
   "metadata": {
    "colab": {
     "base_uri": "https://localhost:8080/",
     "height": 56
    },
    "id": "cbPlv07GQ1fk",
    "outputId": "970f0095-a919-420d-8a04-a18118334fcb"
   },
   "execution_count": null,
   "outputs": [
    {
     "output_type": "execute_result",
     "data": {
      "text/plain": [
       "3*sqrt(x)*(3*sqrt(x) + 2)**(1/3)/2 + (3*sqrt(x) + 2)**(1/3)"
      ],
      "text/latex": "$\\displaystyle \\frac{3 \\sqrt{x} \\sqrt[3]{3 \\sqrt{x} + 2}}{2} + \\sqrt[3]{3 \\sqrt{x} + 2}$"
     },
     "metadata": {},
     "execution_count": 40
    }
   ]
  },
  {
   "cell_type": "code",
   "source": [
    "W5=x*(1-x**2)**sy.Rational(1/4) +sy.sin(sy.sqrt(x))\n",
    "W5"
   ],
   "metadata": {
    "colab": {
     "base_uri": "https://localhost:8080/",
     "height": 41
    },
    "id": "QyHS8O39Q3Y1",
    "outputId": "3c36d377-c020-4706-a1b8-a6471643b007"
   },
   "execution_count": null,
   "outputs": [
    {
     "output_type": "execute_result",
     "data": {
      "text/plain": [
       "x*(1 - x**2)**(1/4) + sin(sqrt(x))"
      ],
      "text/latex": "$\\displaystyle x \\sqrt[4]{1 - x^{2}} + \\sin{\\left(\\sqrt{x} \\right)}$"
     },
     "metadata": {},
     "execution_count": 41
    }
   ]
  },
  {
   "cell_type": "code",
   "source": [
    "sy.integrate(W5, x)"
   ],
   "metadata": {
    "colab": {
     "base_uri": "https://localhost:8080/",
     "height": 56
    },
    "id": "PmZJddk9RUXq",
    "outputId": "1428e239-c464-40d1-9cc6-9596ce7b7df0"
   },
   "execution_count": null,
   "outputs": [
    {
     "output_type": "execute_result",
     "data": {
      "text/plain": [
       "-2*sqrt(x)*cos(sqrt(x)) + 2*x**2*(1 - x**2)**(1/4)/5 - 2*(1 - x**2)**(1/4)/5 + 2*sin(sqrt(x))"
      ],
      "text/latex": "$\\displaystyle - 2 \\sqrt{x} \\cos{\\left(\\sqrt{x} \\right)} + \\frac{2 x^{2} \\sqrt[4]{1 - x^{2}}}{5} - \\frac{2 \\sqrt[4]{1 - x^{2}}}{5} + 2 \\sin{\\left(\\sqrt{x} \\right)}$"
     },
     "metadata": {},
     "execution_count": 42
    }
   ]
  },
  {
   "cell_type": "markdown",
   "source": [
    "#####انتگرال معین"
   ],
   "metadata": {
    "id": "6ZfgArBCRaY1"
   }
  },
  {
   "cell_type": "markdown",
   "source": [
    "$V(x)= \\dfrac{e^x }{\\sqrt{e^{2x}+9}} +e^{x^2}$"
   ],
   "metadata": {
    "id": "FiMA__8HR4yk"
   }
  },
  {
   "cell_type": "markdown",
   "source": [
    "$\\int_{0}^{\\ln(4)} V(x) dx=???$"
   ],
   "metadata": {
    "id": "M3mheYAISiUh"
   }
  },
  {
   "cell_type": "code",
   "source": [
    "V=sy.exp(x) / sy.sqrt(sy.exp(2*x) + 9)+ sy.exp(2*x)\n",
    "V"
   ],
   "metadata": {
    "colab": {
     "base_uri": "https://localhost:8080/",
     "height": 55
    },
    "id": "1e5cxYj5RWJf",
    "outputId": "6a569512-dc75-4662-dba3-f4eca41adb75"
   },
   "execution_count": null,
   "outputs": [
    {
     "output_type": "execute_result",
     "data": {
      "text/plain": [
       "exp(2*x) + exp(x)/sqrt(exp(2*x) + 9)"
      ],
      "text/latex": "$\\displaystyle e^{2 x} + \\frac{e^{x}}{\\sqrt{e^{2 x} + 9}}$"
     },
     "metadata": {},
     "execution_count": 4
    }
   ]
  },
  {
   "cell_type": "code",
   "source": [
    "sy.integrate(V,x)"
   ],
   "metadata": {
    "colab": {
     "base_uri": "https://localhost:8080/",
     "height": 58
    },
    "id": "PUBmiCECfRTZ",
    "outputId": "c659e2b3-e6fe-4548-b7d0-088b5236a7c8"
   },
   "execution_count": null,
   "outputs": [
    {
     "output_type": "execute_result",
     "data": {
      "text/plain": [
       "exp(2*x)/2 + asinh(exp(x)/3)"
      ],
      "text/latex": "$\\displaystyle \\frac{e^{2 x}}{2} + \\operatorname{asinh}{\\left(\\frac{e^{x}}{3} \\right)}$"
     },
     "metadata": {},
     "execution_count": 5
    }
   ]
  },
  {
   "cell_type": "code",
   "source": [
    "VI=sy.integrate(V,\n",
    "                (x, 0, sy.log(4)))\n",
    "VI"
   ],
   "metadata": {
    "colab": {
     "base_uri": "https://localhost:8080/",
     "height": 58
    },
    "id": "nLsGLTkZRt9b",
    "outputId": "f6c5fb2a-e914-4f0d-cdd9-67684dde3052"
   },
   "execution_count": null,
   "outputs": [
    {
     "output_type": "execute_result",
     "data": {
      "text/plain": [
       "-asinh(1/3) + asinh(4/3) + 15/2"
      ],
      "text/latex": "$\\displaystyle - \\operatorname{asinh}{\\left(\\frac{1}{3} \\right)} + \\operatorname{asinh}{\\left(\\frac{4}{3} \\right)} + \\frac{15}{2}$"
     },
     "metadata": {},
     "execution_count": 44
    }
   ]
  }
 ]
}
